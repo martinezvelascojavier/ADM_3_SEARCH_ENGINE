{
 "cells": [
  {
   "cell_type": "markdown",
   "id": "ae1ba27e",
   "metadata": {},
   "source": [
    "<h1><center>  ADM HOMEWORK 3 -  Places of the world</center>"
   ]
  },
  {
   "cell_type": "markdown",
   "id": "acc7bef2",
   "metadata": {},
   "source": [
    "<b>Name</b>: Sara Cammarota <span style=\"color:white\">--------i</span><b>Matricola</b>: 1869943 <span style=\"color:white\">--i</span><b>Email</b>: cammarota.1869943@studenti.uniroma1.it  <br>\n",
    "<b>Name</b>: Erica Luciani <span style=\"color:white\">-------------ii</span><b>Matricola</b>: 1868647 <span style=\"color:white\">--i</span><b>Email</b>: luciani.1868647@studenti.uniroma1.it <br>\n",
    "<b>Name</b>: Javier Martinez Velasco <span style=\"color:white\">-i</span><b>Matricola</b>: 2058968 <span style=\"color:white\">--i</span><b>Email</b>: martinezvelasco.2058968@studenti.uniroma1.it <br>\n",
    "<b>Name</b>: Francesco Obiso <span style=\"color:white\">---------</span><b>Matricola</b>: 1908398 <span style=\"color:white\">--i</span><b>Email</b>: obiso.1908398@studenti.uniroma1.it "
   ]
  },
  {
   "cell_type": "code",
   "execution_count": 1,
   "id": "2f177ebf",
   "metadata": {},
   "outputs": [],
   "source": [
    "#General libraries\n",
    "import pandas as pd\n",
    "import numpy as np\n",
    "from collections import defaultdict\n",
    "from collections import Counter\n",
    "import collections\n",
    "import warnings\n",
    "import string\n",
    "from string import punctuation\n",
    "from itertools import islice\n",
    "import math\n",
    "import json\n",
    "import time\n",
    "import os\n",
    "import re\n",
    "\n",
    "#Webscrapping\n",
    "from bs4 import BeautifulSoup\n",
    "import requests as rq\n",
    "from datetime import datetime\n",
    "from tqdm import tqdm\n",
    "import bs4\n",
    "\n",
    "#NLP\n",
    "!pip install Unidecode\n",
    "import unidecode\n",
    "import nltk\n",
    "from nltk.corpus import stopwords\n",
    "from nltk.tokenize import word_tokenize\n",
    "from nltk.stem import PorterStemmer \n",
    "nltk.download('stopwords')\n",
    "nltk.download('punkt')\n",
    "!python -m spacy download en_core_web_sm\n",
    "!pip install -U spacy\n",
    "import spacy\n",
    "\n",
    "#Questions 3&4\n",
    "!pip install geopy\n",
    "import geopy.distance"
   ]
  },
  {
   "cell_type": "markdown",
   "id": "08766642",
   "metadata": {},
   "source": [
    "#  1. Data collection"
   ]
  },
  {
   "cell_type": "markdown",
   "id": "d9bedf7b",
   "metadata": {},
   "source": [
    "Here we detail the procedure used for the data collection."
   ]
  },
  {
   "cell_type": "markdown",
   "id": "fe9cff5f",
   "metadata": {},
   "source": [
    "## 1.1. Get the list of places"
   ]
  },
  {
   "cell_type": "markdown",
   "id": "869b4e3b",
   "metadata": {},
   "source": [
    "In the first place we manually <b>obtain the 400 URLs of the web's menu pages."
   ]
  },
  {
   "cell_type": "code",
   "execution_count": 2,
   "id": "caa845dd",
   "metadata": {},
   "outputs": [],
   "source": [
    "string1, string2 = \"https://www.atlasobscura.com/places?page=\" , \"&sort=likes_count\"\n",
    "menu_urls = [string1+str(i)+string2 for i in range(1,401)]"
   ]
  },
  {
   "cell_type": "markdown",
   "id": "772036b1",
   "metadata": {},
   "source": [
    "After parsing the 400 <i>menu URLs</i> <b>we obtain a .txt file with the 7.200 URLs as a final output."
   ]
  },
  {
   "cell_type": "code",
   "execution_count": 3,
   "id": "b248dea6",
   "metadata": {},
   "outputs": [],
   "source": [
    "#We create a new file\n",
    "file = open(\"7200_urls.txt\", \"x\")\n",
    "\n",
    "#We add to the new file all the urls that we obtaing from the 400 menu URLs\n",
    "for i in tqdm(range(len(menu_urls))):\n",
    "    page_content = rq.get(menu_urls[i])\n",
    "    soup_content = BeautifulSoup(page_content.text)\n",
    "    list_18_urls = ['https://www.atlasobscura.com'+ x.get('href') for x in soup_content.find_all('a', {'class':'content-card-place'})]\n",
    "    file = open(\"7200_urls.txt\", \"a\")\n",
    "    file.write('\\n'.join(list_18_urls) + '\\n')\n",
    "    file.close()\n",
    "\n",
    "file.close()"
   ]
  },
  {
   "cell_type": "markdown",
   "id": "0bf6968e",
   "metadata": {},
   "source": [
    "##  1.2. Crawl places"
   ]
  },
  {
   "cell_type": "markdown",
   "id": "d889f004",
   "metadata": {},
   "source": [
    "We <b>create a list that contains all the urls</b> by iterating over the previously created file with 7.200 urls."
   ]
  },
  {
   "cell_type": "code",
   "execution_count": 4,
   "id": "3e735dfc",
   "metadata": {},
   "outputs": [],
   "source": [
    "file = open(\"7200_urls.txt\", \"r\")\n",
    "file_iterable =file.readlines()\n",
    "all_urls_list = [file_iterable[i][:-1] for i in range(len(file_iterable)) if file_iterable[i] != \"\\n\"]        \n",
    "file.close()"
   ]
  },
  {
   "cell_type": "markdown",
   "id": "5213995a",
   "metadata": {},
   "source": [
    "Inside a parent directory (<i>ADM_HW3_FOLDERS</i>), <b>we create 400 folders, each one of them cointaining 18 files, and every one of these files, contains the HTML code of a specific URL </b>. In order to obtain this output, we iterated over the list created in the previous step, which contains the 7200 URLs.\n",
    "Also, is worth mentioning that we used the method <i>requests.Session()</i> which helped us to reduce time by mantaining the \"<i>requesting session</i>\" open. We also needed to include time.sleep(1) to avoid being blocked from the webpage."
   ]
  },
  {
   "cell_type": "code",
   "execution_count": 5,
   "id": "da35e68a",
   "metadata": {},
   "outputs": [],
   "source": [
    "parent_dir = \"ADM_HW3_FOLDERS\"\n",
    "session = rq.Session()\n",
    "for i in tqdm(range(313, 401)):\n",
    "    directory = f'folder_{i}'\n",
    "    os.makedirs(os.path.join(parent_dir,directory))\n",
    "    for url in all_urls_list[i*18:(i+1)*18]:\n",
    "        result = session.get(url)\n",
    "        html = BeautifulSoup(result.text)\n",
    "        filename = url[36:]\n",
    "        parent_dir2 = f\"ADM_HW3_FOLDERS/folder_{i}\"\n",
    "        path = os.path.join(parent_dir2,filename)\n",
    "        new_file = open(path, \"x\")\n",
    "        new_file.writelines(str(html))\n",
    "        new_file.close()\n",
    "        time.sleep(1)"
   ]
  },
  {
   "cell_type": "markdown",
   "id": "78da2375",
   "metadata": {},
   "source": [
    "## 1.3 Parse downloaded pages"
   ]
  },
  {
   "cell_type": "markdown",
   "id": "c982cf7c",
   "metadata": {},
   "source": [
    "<h4>Our Parser Function</h4> <br>\n",
    "This is the function that scraps the important information of a given URL."
   ]
  },
  {
   "cell_type": "code",
   "execution_count": 6,
   "id": "cb3b53a8",
   "metadata": {},
   "outputs": [],
   "source": [
    "def extract_single_place(file):\n",
    "\n",
    "    result = open(file,\"r\")\n",
    "    soup = BeautifulSoup(result)\n",
    "    \n",
    "    placeName = soup.find_all('h1', {'class':'DDPage__header-title'})[0].contents[0]\n",
    "    \n",
    "    placeDesc = [x.text for x in soup.find_all('div', {'id': 'place-body'})]\n",
    "    \n",
    "    placeShortDesc = soup.find_all('h3', {'class': 'DDPage__header-dek'})[0].contents[0].replace(u'\\xa0', u'')\n",
    "    \n",
    "    numPeopleVisited = int(soup.find_all('div', {'class':'title-md item-action-count'})[0].contents[0])\n",
    "    \n",
    "    numPeopleWant = int(soup.find_all('div', {'class':'title-md item-action-count'})[1].contents[0])\n",
    "    \n",
    "    nearby = soup.find_all('div', {'class':'DDPageSiderailRecirc__item-title'})\n",
    "    placeNearby = [nearby[i].contents[0] for i in range(len(nearby)) if nearby[i].contents[0] != \"\\n\" ]\n",
    "    \n",
    "    address = soup.find_all('address', {'class':'DDPageSiderail__address'})[0]\n",
    "    street = address.find_all('div')[0].contents[0].replace('\\n', '').strip()\n",
    "    city = address.find_all('div')[0].contents[2].replace('\\n', '').strip()\n",
    "    country = address.find_all('div')[0].contents[4].replace('\\n', '').strip()\n",
    "    placeAddress = street +\" \"+city +\" \"+ country\n",
    "    \n",
    "    try:\n",
    "        placeAlt = float(soup.find_all('div', {'class':'DDPageSiderail__coordinates js-copy-coordinates'})[0].contents[2][1:7])\n",
    "    except ValueError:\n",
    "        placeAlt = \"\"\n",
    "    \n",
    "    try:\n",
    "        placeLong = float(soup.find_all('div', {'class':'DDPageSiderail__coordinates js-copy-coordinates'})[0].contents[2][10:-2])\n",
    "    except ValueError:\n",
    "        placeLong = \"\"\n",
    "    \n",
    "    editors = soup.find_all('a', {'class':\"DDPContributorsList__contributor\"})\n",
    "    placeEditors = [editors[i].contents[0] for i in range(len(editors)) if editors[i].contents[0] != \"\\n\"  ]\n",
    "    \n",
    "    try:\n",
    "        date = soup.find_all('div', {'class':\"DDPContributor__name\"})[0].contents[0]\n",
    "        placePubDate = datetime.strptime(date, '%B %d, %Y')\n",
    "    except IndexError:\n",
    "        placePubDate = \"\"\n",
    "    \n",
    "    try:\n",
    "        placeTags = soup.find_all('div', {'class':'DDPage__header-place-location'})[0].contents[0]\n",
    "        if type(placeTags) == bs4.element.NavigableString:\n",
    "            placeTags = str(placeTags)\n",
    "        else:\n",
    "            placeTags = placeTags.contents[0]\n",
    "    except IndexError:\n",
    "        placeTags = \"\"\n",
    "    \n",
    "    try:\n",
    "        placeRelatedLists = \"\"\n",
    "        find_num_lists = soup.find_all('div', {'class':\"CardRecircSection__title\"})\n",
    "        RelatedLists = soup.find_all('h3', {'class':\"Card__heading --content-card-v2-title js-title-content\"})\n",
    "        if find_num_lists[2].contents[0][11:12] != \" \":\n",
    "            placeRelatedLists = [list(RelatedLists[-i].contents[1]) for i in range(1,int(find_num_lists[2].contents[0][11:12])+1)]\n",
    "            placeRelatedLists = [item for sublist in placeRelatedLists for item in sublist]   \n",
    "    except IndexError:\n",
    "        placeRelatedLists = \"\"\n",
    "        \n",
    "    try:\n",
    "        placeRelatedPlaces = \"\"\n",
    "        find_rel_places = soup.find_all('div', {'class':\"CardRecircSection__title\"})\n",
    "        RelatedPlaces = soup.find_all('h3', {'class':\"Card__heading --content-card-v2-title js-title-content\"})\n",
    "        c =  find_rel_places[2].contents[0][11:12] \n",
    "        if c != \" \": #we needed a -1 after the -i, when c = number , and we needed to iterate from c until c+4\n",
    "            placeRelatedPlaces = [list(RelatedPlaces[-i-1].contents[1]) for i in range(int(c), int(c)+4)]\n",
    "            placeRelatedPlaces = [item for sublist in placeRelatedPlaces for item in sublist]\n",
    "            if int(c) >= 6 :\n",
    "                placeRelatedPlaces = [list(RelatedPlaces[-i].contents[1]) for i in range(int(c), int(c)+4)]\n",
    "                placeRelatedPlaces = [item for sublist in placeRelatedPlaces for item in sublist]\n",
    "        else: #this block needed to don't be indented, to reach cases where c = \" \"\n",
    "            placeRelatedPlaces = [list(RelatedPlaces[-i].contents[1]) for i in range(1, 5)]\n",
    "            placeRelatedPlaces = [item for sublist in placeRelatedPlaces for item in sublist]    \n",
    "    except IndexError:\n",
    "        placeRelatedPlaces = \"\"\n",
    "        \n",
    "    placeUrl = \"https://www.atlasobscura.com/places/\" + os.path.basename(file)\n",
    "    result.close()\n",
    "    return {'placeName': placeName, \n",
    "            'placeTags': placeTags,\n",
    "            'placeDesc': placeDesc[0].replace(u'\\xa0', u' ').replace('\\n', '').strip(),\n",
    "            'placeShortDesc':placeShortDesc,\n",
    "            'numPeopleVisited':numPeopleVisited,\n",
    "            'numPeopleWant': numPeopleWant,\n",
    "            'placeNearby': \" , \".join(placeNearby),\n",
    "            'placeAddress': placeAddress,\n",
    "            'placeAlt': placeAlt,\n",
    "            'placeLong':placeLong,\n",
    "            'placeEditors': \" , \".join(placeEditors),\n",
    "            'placePubDate': placePubDate,\n",
    "            'placeRelatedLists': \" , \".join(placeRelatedLists),\n",
    "            'placeRelatedPlaces': \" , \".join(placeRelatedPlaces),\n",
    "            'placeUrl': placeUrl}"
   ]
  },
  {
   "cell_type": "markdown",
   "id": "3e967bf7",
   "metadata": {},
   "source": [
    "The function `file_iterator_parser()` creates a new tsv file with the desired content for every file in our structure of 400 folders and 18 files per folder (7.200 files): <br>"
   ]
  },
  {
   "cell_type": "code",
   "execution_count": 7,
   "id": "eb767776",
   "metadata": {},
   "outputs": [],
   "source": [
    "def file_iterator_parser(filenames):\n",
    "    #iterate over each folder\n",
    "    for i in tqdm(range(400)):\n",
    "        #filenames we are interested in:\n",
    "        files = filenames[i*18:(i+1)*18] #for each iteration we choose only the file names we are interested in\n",
    "        #iterate over each file in that specific folder\n",
    "        for j in range(18):\n",
    "            #parse the file below\n",
    "            parsed_content = extract_single_place(f\"ADM_HW3_FOLDERS/folder_{i}/{files[j]}\")\n",
    "            #turn it into a dataframe\n",
    "            dataframe_content = pd.DataFrame(parsed_content, index = [0])\n",
    "            #create a new tsv file in the general tsv directory ADM_HW3_TSV.\n",
    "            dataframe_content.to_csv(f\"NEW_TSVS/{files[j]}.tsv\", sep = \"\\t\")\n",
    "\n",
    "            \n",
    "#New list that contains all the names of our files. Needed for the next step.\n",
    "filenames = [i[36:]for i in all_urls_list.copy()]\n",
    "\n",
    "file_iterator_parser(last_part_urls)"
   ]
  },
  {
   "cell_type": "markdown",
   "id": "a48e266d",
   "metadata": {},
   "source": [
    "The function `concatenate_tsvs()` creates a unique Dataframe by concatenating all 7.200 files present in our main directory: <br>"
   ]
  },
  {
   "cell_type": "code",
   "execution_count": 11,
   "id": "71844151",
   "metadata": {},
   "outputs": [
    {
     "data": {
      "text/html": [
       "<div>\n",
       "<style scoped>\n",
       "    .dataframe tbody tr th:only-of-type {\n",
       "        vertical-align: middle;\n",
       "    }\n",
       "\n",
       "    .dataframe tbody tr th {\n",
       "        vertical-align: top;\n",
       "    }\n",
       "\n",
       "    .dataframe thead th {\n",
       "        text-align: right;\n",
       "    }\n",
       "</style>\n",
       "<table border=\"1\" class=\"dataframe\">\n",
       "  <thead>\n",
       "    <tr style=\"text-align: right;\">\n",
       "      <th></th>\n",
       "      <th>placeName</th>\n",
       "      <th>placeTags</th>\n",
       "      <th>placeDesc</th>\n",
       "      <th>placeShortDesc</th>\n",
       "      <th>numPeopleVisited</th>\n",
       "      <th>numPeopleWant</th>\n",
       "      <th>placeNearby</th>\n",
       "      <th>placeAddress</th>\n",
       "      <th>placeAlt</th>\n",
       "      <th>placeLong</th>\n",
       "      <th>placeEditors</th>\n",
       "      <th>placePubDate</th>\n",
       "      <th>placeRelatedLists</th>\n",
       "      <th>placeRelatedPlaces</th>\n",
       "      <th>placeUrl</th>\n",
       "    </tr>\n",
       "  </thead>\n",
       "  <tbody>\n",
       "    <tr>\n",
       "      <th>0</th>\n",
       "      <td>Swing at the End of the World</td>\n",
       "      <td>Banos, Ecuador</td>\n",
       "      <td>Deep in the Ecuadorian wilderness is a seismic...</td>\n",
       "      <td>A swing to dangle you off the very edge.</td>\n",
       "      <td>188</td>\n",
       "      <td>1241</td>\n",
       "      <td>Momia de Guano , Chimborazo , Iglesia de Balba...</td>\n",
       "      <td>Casa del Arbol Banos Ecuador</td>\n",
       "      <td>-1</td>\n",
       "      <td>-78.0</td>\n",
       "      <td>penelopeelizabeth , theghostofchristmaspast666...</td>\n",
       "      <td>2014-11-03</td>\n",
       "      <td>50 Obscure and Amazing Places to Visit in 2017...</td>\n",
       "      <td>Fantasy of Flight , Sloss Furnaces , Edison's ...</td>\n",
       "      <td>https://www.atlasobscura.com/places/swing-at-t...</td>\n",
       "    </tr>\n",
       "    <tr>\n",
       "      <th>1</th>\n",
       "      <td>Tinglewood Carvings</td>\n",
       "      <td>Montevallo, Alabama</td>\n",
       "      <td>Montevallo, Alabama’s Orr Park is a lovely nat...</td>\n",
       "      <td>Orr Park's dead trees have been carved into a ...</td>\n",
       "      <td>247</td>\n",
       "      <td>925</td>\n",
       "      <td>Pettus Randall Miniature Museum of American Hi...</td>\n",
       "      <td>277 Park Dr Montevallo, Alabama, 35115 United ...</td>\n",
       "      <td>33</td>\n",
       "      <td>-87.0</td>\n",
       "      <td>ladypalutena , wendiraven , tinewatts , Collec...</td>\n",
       "      <td>2016-03-22</td>\n",
       "      <td>NaN</td>\n",
       "      <td>Brea Redwood Grove , Crooked Slide Park , Doll...</td>\n",
       "      <td>https://www.atlasobscura.com/places/tinglewood...</td>\n",
       "    </tr>\n",
       "    <tr>\n",
       "      <th>2</th>\n",
       "      <td>Berlin Wall Urinal</td>\n",
       "      <td>Las Vegas, Nevada</td>\n",
       "      <td>When the Berlin Wall came down in 1989, it was...</td>\n",
       "      <td>A piece of the iconic wall found an unlikely n...</td>\n",
       "      <td>349</td>\n",
       "      <td>799</td>\n",
       "      <td>The First Telephone in Las Vegas , St. Valenti...</td>\n",
       "      <td>200 N Main St Las Vegas, Nevada United States</td>\n",
       "      <td>36</td>\n",
       "      <td>-115.0</td>\n",
       "      <td>4n4l0gb0y , MyDoctorWinksTooMuch</td>\n",
       "      <td>2017-10-12</td>\n",
       "      <td>10 Bathrooms You Should Pee in Before You Die</td>\n",
       "      <td>Heisenberg's Bathtub , Văcărești Natural Park ...</td>\n",
       "      <td>https://www.atlasobscura.com/places/berlin-wal...</td>\n",
       "    </tr>\n",
       "    <tr>\n",
       "      <th>3</th>\n",
       "      <td>Tintern Abbey</td>\n",
       "      <td>Tintern, Wales</td>\n",
       "      <td>Tintern Abbey is an extremely well-preserved C...</td>\n",
       "      <td>This well-preserved Cistercian Abbey in a roma...</td>\n",
       "      <td>508</td>\n",
       "      <td>859</td>\n",
       "      <td>St Briavels Castle , Lydney Camp , Puzzlewood</td>\n",
       "      <td>A466 Tintern, Wales United Kingdom</td>\n",
       "      <td>52</td>\n",
       "      <td>-3.0</td>\n",
       "      <td>Thomas Poston , old1475 , knoflookperser , rug...</td>\n",
       "      <td>2016-07-10</td>\n",
       "      <td>NaN</td>\n",
       "      <td>The Nashville Clayscape , Zemun Fortress , Vic...</td>\n",
       "      <td>https://www.atlasobscura.com/places/tintern-abbey</td>\n",
       "    </tr>\n",
       "    <tr>\n",
       "      <th>4</th>\n",
       "      <td>Mount Angel Abbey Museum</td>\n",
       "      <td>Mount Angel, Oregon</td>\n",
       "      <td>The Mount Angel Abbey Museum is a very eclecti...</td>\n",
       "      <td>World's largest porcine hairball sits in a col...</td>\n",
       "      <td>268</td>\n",
       "      <td>572</td>\n",
       "      <td>The Gordon House  , Wooden Shoe Tulip Farm , T...</td>\n",
       "      <td>One Abbey Drive Mount Angel, Oregon, 97373 Uni...</td>\n",
       "      <td>45</td>\n",
       "      <td>-123.0</td>\n",
       "      <td>fatpirate , darkdaybreak , Nicholas Jackson</td>\n",
       "      <td>2011-02-09</td>\n",
       "      <td>NaN</td>\n",
       "      <td>Milwaukee Art Museum , St. George Icon Museum ...</td>\n",
       "      <td>https://www.atlasobscura.com/places/mount-ange...</td>\n",
       "    </tr>\n",
       "  </tbody>\n",
       "</table>\n",
       "</div>"
      ],
      "text/plain": [
       "                       placeName            placeTags  \\\n",
       "0  Swing at the End of the World       Banos, Ecuador   \n",
       "1            Tinglewood Carvings  Montevallo, Alabama   \n",
       "2             Berlin Wall Urinal    Las Vegas, Nevada   \n",
       "3                  Tintern Abbey       Tintern, Wales   \n",
       "4       Mount Angel Abbey Museum  Mount Angel, Oregon   \n",
       "\n",
       "                                           placeDesc  \\\n",
       "0  Deep in the Ecuadorian wilderness is a seismic...   \n",
       "1  Montevallo, Alabama’s Orr Park is a lovely nat...   \n",
       "2  When the Berlin Wall came down in 1989, it was...   \n",
       "3  Tintern Abbey is an extremely well-preserved C...   \n",
       "4  The Mount Angel Abbey Museum is a very eclecti...   \n",
       "\n",
       "                                      placeShortDesc  numPeopleVisited  \\\n",
       "0           A swing to dangle you off the very edge.               188   \n",
       "1  Orr Park's dead trees have been carved into a ...               247   \n",
       "2  A piece of the iconic wall found an unlikely n...               349   \n",
       "3  This well-preserved Cistercian Abbey in a roma...               508   \n",
       "4  World's largest porcine hairball sits in a col...               268   \n",
       "\n",
       "   numPeopleWant                                        placeNearby  \\\n",
       "0           1241  Momia de Guano , Chimborazo , Iglesia de Balba...   \n",
       "1            925  Pettus Randall Miniature Museum of American Hi...   \n",
       "2            799  The First Telephone in Las Vegas , St. Valenti...   \n",
       "3            859      St Briavels Castle , Lydney Camp , Puzzlewood   \n",
       "4            572  The Gordon House  , Wooden Shoe Tulip Farm , T...   \n",
       "\n",
       "                                        placeAddress  placeAlt  placeLong  \\\n",
       "0                       Casa del Arbol Banos Ecuador        -1      -78.0   \n",
       "1  277 Park Dr Montevallo, Alabama, 35115 United ...        33      -87.0   \n",
       "2      200 N Main St Las Vegas, Nevada United States        36     -115.0   \n",
       "3                 A466 Tintern, Wales United Kingdom        52       -3.0   \n",
       "4  One Abbey Drive Mount Angel, Oregon, 97373 Uni...        45     -123.0   \n",
       "\n",
       "                                        placeEditors placePubDate  \\\n",
       "0  penelopeelizabeth , theghostofchristmaspast666...   2014-11-03   \n",
       "1  ladypalutena , wendiraven , tinewatts , Collec...   2016-03-22   \n",
       "2                   4n4l0gb0y , MyDoctorWinksTooMuch   2017-10-12   \n",
       "3  Thomas Poston , old1475 , knoflookperser , rug...   2016-07-10   \n",
       "4        fatpirate , darkdaybreak , Nicholas Jackson   2011-02-09   \n",
       "\n",
       "                                   placeRelatedLists  \\\n",
       "0  50 Obscure and Amazing Places to Visit in 2017...   \n",
       "1                                                NaN   \n",
       "2      10 Bathrooms You Should Pee in Before You Die   \n",
       "3                                                NaN   \n",
       "4                                                NaN   \n",
       "\n",
       "                                  placeRelatedPlaces  \\\n",
       "0  Fantasy of Flight , Sloss Furnaces , Edison's ...   \n",
       "1  Brea Redwood Grove , Crooked Slide Park , Doll...   \n",
       "2  Heisenberg's Bathtub , Văcărești Natural Park ...   \n",
       "3  The Nashville Clayscape , Zemun Fortress , Vic...   \n",
       "4  Milwaukee Art Museum , St. George Icon Museum ...   \n",
       "\n",
       "                                            placeUrl  \n",
       "0  https://www.atlasobscura.com/places/swing-at-t...  \n",
       "1  https://www.atlasobscura.com/places/tinglewood...  \n",
       "2  https://www.atlasobscura.com/places/berlin-wal...  \n",
       "3  https://www.atlasobscura.com/places/tintern-abbey  \n",
       "4  https://www.atlasobscura.com/places/mount-ange...  "
      ]
     },
     "execution_count": 11,
     "metadata": {},
     "output_type": "execute_result"
    }
   ],
   "source": [
    "def concatenate_tsvs(list_of_files):\n",
    "    file1 = pd.read_csv(f\"NEW_TSVS/{list_of_files[0]}\", sep = \"\\t\")\n",
    "    final_data = pd.DataFrame(file1, index = [0])\n",
    "\n",
    "    for i in range(1,7200):\n",
    "        file = pd.read_csv(f\"NEW_TSVS/{list_of_files[i]}\", sep = \"\\t\")\n",
    "        dataframe_content = pd.DataFrame(file, index = [0])\n",
    "        final_data = pd.concat([final_data,dataframe_content],ignore_index=True)\n",
    "    \n",
    "    df_places = final_data.drop('Unnamed: 0', axis=1)\n",
    "    \n",
    "    return df_places\n",
    "\n",
    "#We create a list with all our.tsv files stored in our main directory.\n",
    "directory = \"NEW_TSVS\"\n",
    "all_tsv_files = os.listdir(directory)\n",
    "all_tsv_files= [i for i in all_tsv_files if i !=\".ipynb_checkpoints\"]\n",
    "\n",
    "df_places = concatenate_tsvs(all_tsv_files)\n",
    "df_places.head(5)"
   ]
  },
  {
   "cell_type": "code",
   "execution_count": 12,
   "id": "3819cf0d",
   "metadata": {},
   "outputs": [
    {
     "data": {
      "text/plain": [
       "placeName                0\n",
       "placeTags                1\n",
       "placeDesc                0\n",
       "placeShortDesc           0\n",
       "numPeopleVisited         0\n",
       "numPeopleWant            0\n",
       "placeNearby              0\n",
       "placeAddress             0\n",
       "placeAlt                 0\n",
       "placeLong                1\n",
       "placeEditors             6\n",
       "placePubDate             1\n",
       "placeRelatedLists     4448\n",
       "placeRelatedPlaces      29\n",
       "placeUrl                 0\n",
       "dtype: int64"
      ]
     },
     "execution_count": 12,
     "metadata": {},
     "output_type": "execute_result"
    }
   ],
   "source": [
    "df_places.isna().sum()"
   ]
  },
  {
   "cell_type": "markdown",
   "id": "4cc1d49f",
   "metadata": {},
   "source": [
    "## 2. Search Engine"
   ]
  },
  {
   "cell_type": "markdown",
   "id": "e4011347",
   "metadata": {},
   "source": [
    "Upload a reduced version of Dataframe."
   ]
  },
  {
   "cell_type": "code",
   "execution_count": 13,
   "id": "3f34ca2d",
   "metadata": {},
   "outputs": [],
   "source": [
    "reduced_df = pd.read_csv(\"data.places.tsv\", sep = '\\t', usecols = ['placeName', 'placeDesc', 'placeUrl'])"
   ]
  },
  {
   "cell_type": "markdown",
   "id": "3aa03cac",
   "metadata": {},
   "source": [
    "For stopwords, we merged spacy's and nltk stopwords lists'. Once intersected both sets, we turn them into a list and remove all apostrophes, as we will compare this list with the stemmed descriptions, which don't have apostrophes."
   ]
  },
  {
   "cell_type": "code",
   "execution_count": 14,
   "id": "13c3c88c",
   "metadata": {},
   "outputs": [],
   "source": [
    "nlp = spacy.load('en_core_web_sm')\n",
    "spacy_stopwords = nlp.Defaults.stop_words\n",
    "nltk_stopwords = set(nltk.corpus.stopwords.words('english'))\n",
    "all_stop_words = nltk_stopwords.union(spacy_stopwords)\n",
    "all_stop = list(all_stop_words)\n",
    "all_words = [all_stop[i].replace(\"'\",\"\").replace(\"‘\",\"\").replace(\"’\",\"\") for i in range(len(all_stop_words))]"
   ]
  },
  {
   "cell_type": "markdown",
   "id": "2ce5f285",
   "metadata": {},
   "source": [
    "We created a regex pattern that substitutes every character that is not a word or a number into a space character. We believe this is a desirable behaviour because not only removes punctuation but it also allows us to treat words with \"-\" in between (i.e. <i>first-timer</i>) in a better way. The output of the cell below is a new column in the dataframe ('Stemmed_description') which includes the \"preprocessed version\" of all words in the placeDesc column."
   ]
  },
  {
   "cell_type": "code",
   "execution_count": 15,
   "id": "e546f03f",
   "metadata": {},
   "outputs": [],
   "source": [
    "def stemming(column = reduced_df['placeDesc'],stopwords = all_words):\n",
    "    ps = PorterStemmer() \n",
    "    stemmed = []\n",
    "    for description in reduced_df['placeDesc']: \n",
    "        description = unidecode.unidecode(description.lower()) #treat accents and uppercase\n",
    "        description = re.sub('[^a-zA-Z0-9]', ' ', description).split() #remove punct and \"in between \"-\"s\"\n",
    "        description = [word.strip() for word in description if word not in all_words] #remove stopwords\n",
    "        stemmed_desc = [ps.stem(word) for word in description] #perform stemming\n",
    "        description = ' '.join(stemmed_desc)\n",
    "        stemmed.append(description)\n",
    "    \n",
    "    return stemmed"
   ]
  },
  {
   "cell_type": "markdown",
   "id": "a8b7e52c",
   "metadata": {},
   "source": [
    "When performing some exploratory data analysis on the dataset we identified that 20 places shared their name with at least other place. This made important to use Document IDs in throughout the homework, in order to avoid errors."
   ]
  },
  {
   "cell_type": "code",
   "execution_count": 16,
   "id": "0bc23458",
   "metadata": {},
   "outputs": [
    {
     "data": {
      "text/html": [
       "<div>\n",
       "<style scoped>\n",
       "    .dataframe tbody tr th:only-of-type {\n",
       "        vertical-align: middle;\n",
       "    }\n",
       "\n",
       "    .dataframe tbody tr th {\n",
       "        vertical-align: top;\n",
       "    }\n",
       "\n",
       "    .dataframe thead th {\n",
       "        text-align: right;\n",
       "    }\n",
       "</style>\n",
       "<table border=\"1\" class=\"dataframe\">\n",
       "  <thead>\n",
       "    <tr style=\"text-align: right;\">\n",
       "      <th></th>\n",
       "      <th>ID</th>\n",
       "      <th>placeName</th>\n",
       "      <th>placeDesc</th>\n",
       "      <th>placeUrl</th>\n",
       "      <th>Stemmed_description</th>\n",
       "    </tr>\n",
       "  </thead>\n",
       "  <tbody>\n",
       "    <tr>\n",
       "      <th>0</th>\n",
       "      <td>Doc_0</td>\n",
       "      <td>Swing at the End of the World</td>\n",
       "      <td>Deep in the Ecuadorian wilderness is a seismic...</td>\n",
       "      <td>https://www.atlasobscura.com/places/swing-at-t...</td>\n",
       "      <td>deep ecuadorian wilder seismic monitor station...</td>\n",
       "    </tr>\n",
       "    <tr>\n",
       "      <th>1</th>\n",
       "      <td>Doc_1</td>\n",
       "      <td>Tinglewood Carvings</td>\n",
       "      <td>Montevallo, Alabama’s Orr Park is a lovely nat...</td>\n",
       "      <td>https://www.atlasobscura.com/places/tinglewood...</td>\n",
       "      <td>montevallo alabama orr park love natur area fi...</td>\n",
       "    </tr>\n",
       "  </tbody>\n",
       "</table>\n",
       "</div>"
      ],
      "text/plain": [
       "      ID                      placeName  \\\n",
       "0  Doc_0  Swing at the End of the World   \n",
       "1  Doc_1            Tinglewood Carvings   \n",
       "\n",
       "                                           placeDesc  \\\n",
       "0  Deep in the Ecuadorian wilderness is a seismic...   \n",
       "1  Montevallo, Alabama’s Orr Park is a lovely nat...   \n",
       "\n",
       "                                            placeUrl  \\\n",
       "0  https://www.atlasobscura.com/places/swing-at-t...   \n",
       "1  https://www.atlasobscura.com/places/tinglewood...   \n",
       "\n",
       "                                 Stemmed_description  \n",
       "0  deep ecuadorian wilder seismic monitor station...  \n",
       "1  montevallo alabama orr park love natur area fi...  "
      ]
     },
     "execution_count": 16,
     "metadata": {},
     "output_type": "execute_result"
    }
   ],
   "source": [
    "#1. Preprocess all the text.\n",
    "preprocessed = stemming(column = reduced_df['placeDesc'],stopwords = all_words)\n",
    "#2. Add new column with preprocessed content to dataframe\n",
    "reduced_df['Stemmed_description'] = preprocessed\n",
    "#3. Add new column with Doc_id to dataframe. There are 20 placeNames that are repeated.\n",
    "reduced_df = reduced_df.reset_index()\n",
    "reduced_df = reduced_df.rename(columns={'index': 'ID'})\n",
    "reduced_df['ID'] = 'Doc_' + reduced_df['ID'].astype(str)\n",
    "reduced_df.head(2)"
   ]
  },
  {
   "cell_type": "markdown",
   "id": "34ee6ac7",
   "metadata": {},
   "source": [
    "### 2.1. Conjunctive query"
   ]
  },
  {
   "cell_type": "markdown",
   "id": "de76c19c",
   "metadata": {},
   "source": [
    "#### 2.1.1) Create your index!"
   ]
  },
  {
   "cell_type": "markdown",
   "id": "3cb87dbd",
   "metadata": {},
   "source": [
    "In the next step we create a vocabulary out of all the stemmed words."
   ]
  },
  {
   "cell_type": "code",
   "execution_count": 18,
   "id": "ca30dbd7",
   "metadata": {},
   "outputs": [
    {
     "name": "stderr",
     "output_type": "stream",
     "text": [
      "100%|██████████| 7200/7200 [00:11<00:00, 616.63it/s] \n"
     ]
    },
    {
     "data": {
      "text/plain": [
       "{'exuberantli': 0, 'brute': 1, 'shinga': 2, 'huge': 3, 'barnstorm': 4}"
      ]
     },
     "execution_count": 18,
     "metadata": {},
     "output_type": "execute_result"
    }
   ],
   "source": [
    "words = set()\n",
    "vocab = {}\n",
    "term_id = 0\n",
    "#Create vocabulary with all unique words\n",
    "for text in tqdm(reduced_df['Stemmed_description']):\n",
    "    text = set(text.split()) #unique words in a place description\n",
    "    words = words.union(text) #add to the main vocabulary\n",
    "#Assign a term_id\n",
    "for word in words:\n",
    "    vocab[word] = term_id\n",
    "    term_id += 1\n",
    "\n",
    "#Show a partial view of the dictionary\n",
    "dict(islice(vocab.items(), 0, 5)) #40,029 unique words"
   ]
  },
  {
   "cell_type": "markdown",
   "id": "c1632404",
   "metadata": {},
   "source": [
    "In order to mantain the exact associaton between each word and its term_id, we exported the dictionary in a json file and load it every time we run the notebook."
   ]
  },
  {
   "cell_type": "code",
   "execution_count": 19,
   "id": "96cc488c",
   "metadata": {},
   "outputs": [
    {
     "data": {
      "text/plain": [
       "{'exuberantli': 0, 'brute': 1, 'shinga': 2, 'huge': 3, 'barnstorm': 4}"
      ]
     },
     "execution_count": 19,
     "metadata": {},
     "output_type": "execute_result"
    }
   ],
   "source": [
    "#Load JSON file\n",
    "with open('vocabulary.json') as json_file:\n",
    "    vocabulary = json.load(json_file)\n",
    "dict(islice(vocabulary.items(), 0, 5))"
   ]
  },
  {
   "cell_type": "markdown",
   "id": "ee295d3b",
   "metadata": {},
   "source": [
    "Next step includes arraging the first inverted index. The resulting index was exported in a json file as: <i>inverted_index_v1.json."
   ]
  },
  {
   "cell_type": "code",
   "execution_count": 20,
   "id": "02beb760",
   "metadata": {},
   "outputs": [
    {
     "data": {
      "text/plain": [
       "{0: ['Doc_3524'], 1: ['Doc_1273', 'Doc_5865', 'Doc_6922']}"
      ]
     },
     "execution_count": 20,
     "metadata": {},
     "output_type": "execute_result"
    }
   ],
   "source": [
    "def inverted_index_v1(vocabulary,reduced_df):\n",
    "    InvertedIndex = {i: set() for i in range(len(vocabulary))} #new dict with word_id as keys.\n",
    "    counter = 0\n",
    "    for desc in reduced_df['Stemmed_description']:\n",
    "        desc = desc.split()\n",
    "        for word in desc: #add to the dict: key:word_id & values: docs where appears.\n",
    "            InvertedIndex[vocabulary[word]].add(reduced_df.ID[counter])\n",
    "        counter +=1 \n",
    "    for key in InvertedIndex.keys(): #Convert the values of the dict in a list.\n",
    "        InvertedIndex[key] = list(InvertedIndex[key])\n",
    "    return InvertedIndex\n",
    "\n",
    "\n",
    "#We create the inverted index:\n",
    "inverted_index_v1 = inverted_index_v1(vocabulary,reduced_df)\n",
    "#To show a partial view of the inverted index:\n",
    "dict(islice(inverted_index_v1.items(), 0, 2))"
   ]
  },
  {
   "cell_type": "code",
   "execution_count": 22,
   "id": "bb84b6fb",
   "metadata": {},
   "outputs": [],
   "source": [
    "#Load JSON file\n",
    "with open('inverted_index_v1.json') as json_file:\n",
    "    inverted_index_v1 = json.load(json_file)\n",
    "inverted_index_v1 = {int(k):v for k,v in inverted_index_v1.items()}"
   ]
  },
  {
   "cell_type": "markdown",
   "id": "56e0f085",
   "metadata": {},
   "source": [
    "#### 2.1.2) Execute the query"
   ]
  },
  {
   "cell_type": "markdown",
   "id": "e54e6291",
   "metadata": {},
   "source": [
    "First of all, we define a function that given a query, it is preprocessed in the same exact way as the stemmed descriptions. The output is a list containing the query's stemmed words."
   ]
  },
  {
   "cell_type": "code",
   "execution_count": 23,
   "id": "de9b99e9",
   "metadata": {},
   "outputs": [
    {
     "name": "stdout",
     "output_type": "stream",
     "text": [
      "AmêRicAn-MuseÙM\n"
     ]
    },
    {
     "data": {
      "text/plain": [
       "['american', 'museum']"
      ]
     },
     "execution_count": 23,
     "metadata": {},
     "output_type": "execute_result"
    }
   ],
   "source": [
    "def q():\n",
    "    query = input()\n",
    "    ps = PorterStemmer()\n",
    "    query = unidecode.unidecode(query.lower()) #treat accents and uppercase\n",
    "    query = re.sub('[^a-zA-Z0-9]', ' ', query).split() #remove punct and \"in between \"-\"s\"\n",
    "    query = [word.strip() for word in query if word not in all_words]\n",
    "    query = [ps.stem(word) for word in query]\n",
    "    \n",
    "    return query\n",
    "\n",
    "#An example of the function, introducing the input \"american museum\".\n",
    "q()"
   ]
  },
  {
   "cell_type": "markdown",
   "id": "dcc87760",
   "metadata": {},
   "source": [
    "Secondly, in order to narrow our search, given a query, we are interested in finding a list with <b>only the documents that contain all the words within the query."
   ]
  },
  {
   "cell_type": "code",
   "execution_count": 24,
   "id": "b4fd9ab8",
   "metadata": {},
   "outputs": [
    {
     "data": {
      "text/plain": [
       "{'Doc_1729',\n",
       " 'Doc_1964',\n",
       " 'Doc_3188',\n",
       " 'Doc_3313',\n",
       " 'Doc_4605',\n",
       " 'Doc_5071',\n",
       " 'Doc_5571',\n",
       " 'Doc_5924',\n",
       " 'Doc_6777'}"
      ]
     },
     "execution_count": 24,
     "metadata": {},
     "output_type": "execute_result"
    }
   ],
   "source": [
    "def documents_containing_whole_query(query,vocabulary,inverted_index_v1):\n",
    "    if not query:\n",
    "        documents = \"\"\n",
    "    else:    \n",
    "        documents = set(inverted_index_v1[vocabulary[query[0]]])\n",
    "        for word in query[1:]:\n",
    "            documents = documents.intersection(set(inverted_index_v1[vocabulary[word]]))\n",
    "\n",
    "    return documents\n",
    "\n",
    "#An example to show the output of the function\n",
    "query = [\"american\",\"museum\",\"test\"]\n",
    "documents_containing_whole_query(query,vocabulary,inverted_index_v1)"
   ]
  },
  {
   "cell_type": "markdown",
   "id": "e175b018",
   "metadata": {},
   "source": [
    "Lastly, we define a function that, given a set of documents, <b>shows the user a dataframe</b> with only the documents containing the query made."
   ]
  },
  {
   "cell_type": "code",
   "execution_count": 25,
   "id": "1bcc6fd1",
   "metadata": {},
   "outputs": [],
   "source": [
    "def relevant_places(documents,reduced_df):\n",
    "    temp_df = pd.DataFrame(columns = ['placeName','placeDesc','placeUrl'])\n",
    "    for doc_id in documents:\n",
    "        temp_df = pd.concat([temp_df, reduced_df[reduced_df.ID==doc_id]], ignore_index = True)\n",
    "    \n",
    "    return display(temp_df[['placeName', 'placeDesc', 'placeUrl']])"
   ]
  },
  {
   "cell_type": "markdown",
   "id": "9c022544",
   "metadata": {},
   "source": [
    "### This is our first Search Engine:"
   ]
  },
  {
   "cell_type": "code",
   "execution_count": 27,
   "id": "84a14073",
   "metadata": {},
   "outputs": [
    {
     "name": "stdout",
     "output_type": "stream",
     "text": [
      "american museum\n"
     ]
    },
    {
     "data": {
      "text/html": [
       "<div>\n",
       "<style scoped>\n",
       "    .dataframe tbody tr th:only-of-type {\n",
       "        vertical-align: middle;\n",
       "    }\n",
       "\n",
       "    .dataframe tbody tr th {\n",
       "        vertical-align: top;\n",
       "    }\n",
       "\n",
       "    .dataframe thead th {\n",
       "        text-align: right;\n",
       "    }\n",
       "</style>\n",
       "<table border=\"1\" class=\"dataframe\">\n",
       "  <thead>\n",
       "    <tr style=\"text-align: right;\">\n",
       "      <th></th>\n",
       "      <th>placeName</th>\n",
       "      <th>placeDesc</th>\n",
       "      <th>placeUrl</th>\n",
       "    </tr>\n",
       "  </thead>\n",
       "  <tbody>\n",
       "    <tr>\n",
       "      <th>0</th>\n",
       "      <td>David Adickes Studio</td>\n",
       "      <td>David Adickes is known for the large statues h...</td>\n",
       "      <td>https://www.atlasobscura.com/places/david-adic...</td>\n",
       "    </tr>\n",
       "    <tr>\n",
       "      <th>1</th>\n",
       "      <td>Booze History Museum</td>\n",
       "      <td>Fair warning to all non-drinkers: This isn’t t...</td>\n",
       "      <td>https://www.atlasobscura.com/places/booze-hist...</td>\n",
       "    </tr>\n",
       "    <tr>\n",
       "      <th>2</th>\n",
       "      <td>Gadsby's Tavern</td>\n",
       "      <td>Built in 1785, Gadsby’s Tavern in Old Town Ale...</td>\n",
       "      <td>https://www.atlasobscura.com/places/gadsbys-ta...</td>\n",
       "    </tr>\n",
       "    <tr>\n",
       "      <th>3</th>\n",
       "      <td>Philbrook Museum of Art</td>\n",
       "      <td>With its rich collection of historic and conte...</td>\n",
       "      <td>https://www.atlasobscura.com/places/philbrook-...</td>\n",
       "    </tr>\n",
       "    <tr>\n",
       "      <th>4</th>\n",
       "      <td>Theodore Roosevelt Birthplace Museum</td>\n",
       "      <td>Behind an otherwise innocuous (if immaculately...</td>\n",
       "      <td>https://www.atlasobscura.com/places/theodore-r...</td>\n",
       "    </tr>\n",
       "    <tr>\n",
       "      <th>...</th>\n",
       "      <td>...</td>\n",
       "      <td>...</td>\n",
       "      <td>...</td>\n",
       "    </tr>\n",
       "    <tr>\n",
       "      <th>252</th>\n",
       "      <td>Mount Zion Cemetery's Underground Railroad She...</td>\n",
       "      <td>Tucked away in the corner of the Mount Zion Ce...</td>\n",
       "      <td>https://www.atlasobscura.com/places/mount-zion...</td>\n",
       "    </tr>\n",
       "    <tr>\n",
       "      <th>253</th>\n",
       "      <td>National Cryptologic Museum</td>\n",
       "      <td>Update as of October 2021: Currently closed fo...</td>\n",
       "      <td>https://www.atlasobscura.com/places/national-c...</td>\n",
       "    </tr>\n",
       "    <tr>\n",
       "      <th>254</th>\n",
       "      <td>The Liberty Bell Hiding Place</td>\n",
       "      <td>In September of 1777, the British defeated Geo...</td>\n",
       "      <td>https://www.atlasobscura.com/places/liberty-be...</td>\n",
       "    </tr>\n",
       "    <tr>\n",
       "      <th>255</th>\n",
       "      <td>Deutsches Jagd und Fischereimuseum (German Mus...</td>\n",
       "      <td>With its rows of taxidermy animal heads and di...</td>\n",
       "      <td>https://www.atlasobscura.com/places/deutsches-...</td>\n",
       "    </tr>\n",
       "    <tr>\n",
       "      <th>256</th>\n",
       "      <td>Abandoned Comet Diner</td>\n",
       "      <td>Just down the street from Mark Twain’s house a...</td>\n",
       "      <td>https://www.atlasobscura.com/places/abandoned-...</td>\n",
       "    </tr>\n",
       "  </tbody>\n",
       "</table>\n",
       "<p>257 rows × 3 columns</p>\n",
       "</div>"
      ],
      "text/plain": [
       "                                             placeName  \\\n",
       "0                                 David Adickes Studio   \n",
       "1                                 Booze History Museum   \n",
       "2                                      Gadsby's Tavern   \n",
       "3                              Philbrook Museum of Art   \n",
       "4                 Theodore Roosevelt Birthplace Museum   \n",
       "..                                                 ...   \n",
       "252  Mount Zion Cemetery's Underground Railroad She...   \n",
       "253                        National Cryptologic Museum   \n",
       "254                      The Liberty Bell Hiding Place   \n",
       "255  Deutsches Jagd und Fischereimuseum (German Mus...   \n",
       "256                              Abandoned Comet Diner   \n",
       "\n",
       "                                             placeDesc  \\\n",
       "0    David Adickes is known for the large statues h...   \n",
       "1    Fair warning to all non-drinkers: This isn’t t...   \n",
       "2    Built in 1785, Gadsby’s Tavern in Old Town Ale...   \n",
       "3    With its rich collection of historic and conte...   \n",
       "4    Behind an otherwise innocuous (if immaculately...   \n",
       "..                                                 ...   \n",
       "252  Tucked away in the corner of the Mount Zion Ce...   \n",
       "253  Update as of October 2021: Currently closed fo...   \n",
       "254  In September of 1777, the British defeated Geo...   \n",
       "255  With its rows of taxidermy animal heads and di...   \n",
       "256  Just down the street from Mark Twain’s house a...   \n",
       "\n",
       "                                              placeUrl  \n",
       "0    https://www.atlasobscura.com/places/david-adic...  \n",
       "1    https://www.atlasobscura.com/places/booze-hist...  \n",
       "2    https://www.atlasobscura.com/places/gadsbys-ta...  \n",
       "3    https://www.atlasobscura.com/places/philbrook-...  \n",
       "4    https://www.atlasobscura.com/places/theodore-r...  \n",
       "..                                                 ...  \n",
       "252  https://www.atlasobscura.com/places/mount-zion...  \n",
       "253  https://www.atlasobscura.com/places/national-c...  \n",
       "254  https://www.atlasobscura.com/places/liberty-be...  \n",
       "255  https://www.atlasobscura.com/places/deutsches-...  \n",
       "256  https://www.atlasobscura.com/places/abandoned-...  \n",
       "\n",
       "[257 rows x 3 columns]"
      ]
     },
     "metadata": {},
     "output_type": "display_data"
    }
   ],
   "source": [
    "#1. Input a query\n",
    "query = q()\n",
    "\n",
    "#2. We find all documents that contain all words within the query\n",
    "documents = documents_containing_whole_query(query,vocabulary,inverted_index_v1)\n",
    "\n",
    "#Show the info of these documents in a \"temporal\" dataframe.\n",
    "relevant_places(documents,reduced_df)"
   ]
  },
  {
   "cell_type": "markdown",
   "id": "b7d58766",
   "metadata": {},
   "source": [
    "### 2.2) Conjunctive query & Ranking score"
   ]
  },
  {
   "cell_type": "markdown",
   "id": "15186f91",
   "metadata": {},
   "source": [
    "Next step is obtaining the TFIDF scores. At first we used <b>TfidfVectorizer</b> function from sklearn, but when trying to manually calculate the scores obtained, we didn't manage to reach the same results. Therefore, we decided to calculate the scores manually, which will give more transparency to the calculations and will allow us to use the same treatment for the query's vectorization."
   ]
  },
  {
   "cell_type": "markdown",
   "id": "f97386dc",
   "metadata": {},
   "source": [
    "<b><center>TFIDF =  Term Frequency * Inverse Document Frequency"
   ]
  },
  {
   "cell_type": "markdown",
   "id": "8047be60",
   "metadata": {},
   "source": [
    "- TF (TERM FREQUENCY) = total nº of repetitions of term T in document D / total nº of words in D"
   ]
  },
  {
   "cell_type": "markdown",
   "id": "f972bddb",
   "metadata": {},
   "source": [
    "a) To obtain <b>total nº of repetitions of each term in each document</b> we use the Counter function from the Collections library, and iterate over all rows within the preprocessed/stemmed placeDesc column (in list format: \"Stemmed_list\").<br>\n",
    "b) To find <b>total length of words in each document</b> we sum the frequencies of each word within each Counter object created in the previous step. We store as key the document id, and as values the total nº of words in that document. <br>\n",
    "c) Finally, to find <b>Term Frequency</b>, we divide the two calculations previously obtained above, and get as an output a dictionary that contains as <b>key</b> the id of the document, and as <b>values</b> all the words and their respective TF scores within that document.<br>"
   ]
  },
  {
   "cell_type": "code",
   "execution_count": 28,
   "id": "40bff147",
   "metadata": {
    "scrolled": true
   },
   "outputs": [],
   "source": [
    "#a) Total number of repetitions of each term in each document\n",
    "reduced_df[\"Stemmed_list\"] = [i.split(\" \") for i in reduced_df[\"Stemmed_description\"]]\n",
    "word_counts_per_doc = {}\n",
    "for i in range(len(reduced_df)):\n",
    "    word_counts_per_doc[reduced_df[\"ID\"][i]] = Counter(reduced_df[\"Stemmed_list\"][i]) \n",
    "#Partial show of the word Counter per document:\n",
    "dict(islice(word_counts_per_doc.items(), 0,1))"
   ]
  },
  {
   "cell_type": "code",
   "execution_count": 29,
   "id": "5b38ef3b",
   "metadata": {},
   "outputs": [
    {
     "data": {
      "text/plain": [
       "{'Doc_0': 139, 'Doc_1': 128, 'Doc_2': 102, 'Doc_3': 99, 'Doc_4': 83}"
      ]
     },
     "execution_count": 29,
     "metadata": {},
     "output_type": "execute_result"
    }
   ],
   "source": [
    "#b) Total number of words in each document\n",
    "length_docs = {}\n",
    "for i in reduced_df.ID:\n",
    "    length_docs[i] = sum(word_counts_per_doc[i].values())\n",
    "#Partial show of the lenght per document:\n",
    "dict(islice(length_docs.items(), 0,5))"
   ]
  },
  {
   "cell_type": "code",
   "execution_count": 30,
   "id": "6248af57",
   "metadata": {},
   "outputs": [],
   "source": [
    "#c) TF (Term Frequency) for each word in each document\n",
    "TF = {}\n",
    "for i in word_counts_per_doc:\n",
    "    tf_row = {}\n",
    "    for word in word_counts_per_doc[i].keys():\n",
    "        tf_row[word] =  word_counts_per_doc[i][word] / length_docs[i]\n",
    "    TF[i] =  tf_row  \n",
    "#Partial show of Term Frequencies\n",
    "dict(islice(TF.items(), 0,1))"
   ]
  },
  {
   "cell_type": "markdown",
   "id": "acccf209",
   "metadata": {},
   "source": [
    "- IDF (INVERSE DOC FREQUENCY) = log (nº of documents / nº of documents that contain term T)"
   ]
  },
  {
   "cell_type": "markdown",
   "id": "0374921b",
   "metadata": {},
   "source": [
    "a) In order to obtain IDF of each word, we first need to obtain the number of documents in which each term appears.<br>\n",
    "b) We calculate for each term log(7200/nºdocs where it appears)."
   ]
  },
  {
   "cell_type": "code",
   "execution_count": 31,
   "id": "38b30226",
   "metadata": {},
   "outputs": [
    {
     "data": {
      "text/plain": [
       "{'exuberantli': 1, 'brute': 3, 'shinga': 1, 'huge': 391, 'barnstorm': 3}"
      ]
     },
     "execution_count": 31,
     "metadata": {},
     "output_type": "execute_result"
    }
   ],
   "source": [
    "#a) Number of documents that contain each term\n",
    "number_docs = {}\n",
    "for word in vocabulary:\n",
    "    counter = 0\n",
    "    for i in range(len(reduced_df)):\n",
    "        if word in word_counts_per_doc[reduced_df[\"ID\"][i]].keys():\n",
    "            counter+=1\n",
    "    number_docs[word] = counter\n",
    "#Partial show of the nº of documents in which each term appears\n",
    "dict(islice(number_docs.items(), 0,5))"
   ]
  },
  {
   "cell_type": "code",
   "execution_count": 32,
   "id": "cb375029",
   "metadata": {},
   "outputs": [],
   "source": [
    "#b) Calculate IDF for every term\n",
    "IDF = {}\n",
    "for i in word_counts_per_doc:\n",
    "    idf_row = {}\n",
    "    for word in word_counts_per_doc[i].keys():\n",
    "            idf_row[word] =  np.log(7200/number_docs[word])\n",
    "    IDF[i] = idf_row   \n",
    "#Partial show of the IDF score of each term\n",
    "dict(islice(IDF.items(), 0,1))"
   ]
  },
  {
   "cell_type": "markdown",
   "id": "a6f14651",
   "metadata": {},
   "source": [
    "- TFIDF = TF*IDF "
   ]
  },
  {
   "cell_type": "markdown",
   "id": "e4fd42d3",
   "metadata": {},
   "source": [
    "In this step <b>we calculate TFIDF scores for each term in each document</b>, and simultaneusly, <b>we create an inverted index for each document</b>, which has term id as key and as value, a tuple containing the name of the document and the calculated TFIDF score for that word in that particular document."
   ]
  },
  {
   "cell_type": "code",
   "execution_count": 33,
   "id": "96721d17",
   "metadata": {
    "scrolled": true
   },
   "outputs": [],
   "source": [
    "#TFIDF for each term in each doc \n",
    "TFIDFs = {}\n",
    "for i in reduced_df[\"ID\"]:\n",
    "    tfidf_row = {}\n",
    "    for word in word_counts_per_doc[i].keys():\n",
    "        tfidf_row[vocabulary[word]] =  tuple((i , np.log(7200/number_docs[word])*(word_counts_per_doc[i][word] / length_docs[i])))\n",
    "    TFIDFs[i] =  tfidf_row  \n",
    "\n",
    "#Partial show of the TFIDF score of each term in each document\n",
    "dict(islice(TFIDFs.items(), 0,1))"
   ]
  },
  {
   "cell_type": "markdown",
   "id": "8b58e434",
   "metadata": {},
   "source": [
    "#### 2.2.1) Inverted index"
   ]
  },
  {
   "cell_type": "markdown",
   "id": "316d3147",
   "metadata": {},
   "source": [
    "When calculating TFIDF scores, we created a dictionary made of 7,200 dictionaries, one per document. Each one of them contains all the words appearing on that document as key, and a tuple made of \"doc_id\" and \"TFIDF score\" as a value. Therefore, to obtain our final inverted index, we just need to merge all these dictionaries into one. Also, is worth mentioning that, for every word id (keys), the tuples (values) will be sorted according to the document id."
   ]
  },
  {
   "cell_type": "code",
   "execution_count": 35,
   "id": "f7082d31",
   "metadata": {},
   "outputs": [
    {
     "data": {
      "text/plain": [
       "{20543: [('Doc_3', 0.0617095715430744),\n",
       "  ('Doc_2863', 0.0048066464065809325),\n",
       "  ('Doc_3193', 0.1026764299624263),\n",
       "  ('Doc_3220', 0.032153934646128236),\n",
       "  ('Doc_3292', 0.18101474319301825),\n",
       "  ('Doc_3688', 0.02545519826151819),\n",
       "  ('Doc_3712', 0.08853982004006326),\n",
       "  ('Doc_4120', 0.028415105036113327),\n",
       "  ('Doc_4186', 0.12218495165528731),\n",
       "  ('Doc_4259', 0.1328097300600949),\n",
       "  ('Doc_4687', 0.03916184347925875),\n",
       "  ('Doc_4997', 0.07215646751296495),\n",
       "  ('Doc_6225', 0.019394436770680524),\n",
       "  ('Doc_6439', 0.05007579985872431),\n",
       "  ('Doc_6644', 0.02443699033105746),\n",
       "  ('Doc_6784', 0.03593675048684921)]}"
      ]
     },
     "execution_count": 35,
     "metadata": {},
     "output_type": "execute_result"
    }
   ],
   "source": [
    "inverted_index_v2 = defaultdict(list)\n",
    "for d in TFIDFs.values(): # you can list as many input dicts as you want here\n",
    "    for key, value in d.items():\n",
    "        inverted_index_v2[key].append(value)\n",
    "\n",
    "#Show a partial view of the Inverted Index. i.e: Term 20543, corresponding to word \"turner\"\n",
    "#appears in 16 docuements, having a different TFIDF score in each one of them.\n",
    "dict(islice(inverted_index_v2.items(), 305,306)) "
   ]
  },
  {
   "cell_type": "code",
   "execution_count": 49,
   "id": "1504ca7b",
   "metadata": {},
   "outputs": [],
   "source": [
    "#Load JSON file\n",
    "with open('inverted_index_v2.json') as json_file:\n",
    "    inverted_index_v2 = json.load(json_file)\n",
    "inverted_index_v2 = {int(k):v for k,v in inverted_index_v2.items()}"
   ]
  },
  {
   "cell_type": "markdown",
   "id": "8a100f0d",
   "metadata": {},
   "source": [
    "#### 2.2.2) Execute the query"
   ]
  },
  {
   "cell_type": "markdown",
   "id": "b55c4555",
   "metadata": {},
   "source": [
    "In order to compare the cosine similarity of the query with the documents, <b>we need to obtain a vector with TFIDF scores for all words within the query</b>. Previously we obtained IDF scores for all terms, but they were stored in a complex structure that was convenient for arranging the inverted index. However, for calculating the IDF of the query¡s words, will be easier to work with a dict with term_id as key as IDF as value: "
   ]
  },
  {
   "cell_type": "code",
   "execution_count": 36,
   "id": "2e775e70",
   "metadata": {},
   "outputs": [
    {
     "data": {
      "text/plain": [
       "{0: 8.881836305004146, 1: 7.783224016336037}"
      ]
     },
     "execution_count": 36,
     "metadata": {},
     "output_type": "execute_result"
    }
   ],
   "source": [
    "IDF_scores = {}\n",
    "for key in vocabulary.keys():\n",
    "    IDF_scores[vocabulary[key]] = np.log(7200/len(inverted_index_v1[vocabulary[key]]))\n",
    "#Partial view of IDF scores for each of the 40.029 terms in the vocabulary.\n",
    "dict(islice(IDF_scores.items(), 0, 2))"
   ]
  },
  {
   "cell_type": "markdown",
   "id": "79ea60ea",
   "metadata": {},
   "source": [
    "The function below takes as input the query and returns a vector containing the TFIDF scores off all terms in that query"
   ]
  },
  {
   "cell_type": "code",
   "execution_count": 37,
   "id": "ec4b713b",
   "metadata": {},
   "outputs": [
    {
     "data": {
      "text/plain": [
       "[0.6953768432768774, 0.5219842668314538, 1.2881854893964073]"
      ]
     },
     "execution_count": 37,
     "metadata": {},
     "output_type": "execute_result"
    }
   ],
   "source": [
    "def query_vector(query,vocabulary,IDF_scores):\n",
    "    TF_query = {}\n",
    "    for word in query: #Calculate TF for each term of the query\n",
    "        TF_query[vocabulary[word]] = query.count(word)/len(query) \n",
    "    TFIDF_query = {}\n",
    "    for key in TF_query.keys(): #Calculate TF*IDF for each word of the query  \n",
    "        TFIDF_query[key] = IDF_scores[key]*TF_query[key]\n",
    "    return list(TFIDF_query.values())\n",
    "\n",
    "#An example to show the output of the function\n",
    "query = [\"american\",\"museum\",\"test\"]  \n",
    "query_vector(query,vocabulary,IDF_scores) #Output: TFIDFs of \"american\",\"museum\",\"test\"."
   ]
  },
  {
   "cell_type": "markdown",
   "id": "4ed7447d",
   "metadata": {},
   "source": [
    "The function below takes as input the query and the relevant N documents, and returns <b>N vectors containing the TFIDF scores off all terms in that query, for each of the N documents."
   ]
  },
  {
   "cell_type": "code",
   "execution_count": 38,
   "id": "371906bb",
   "metadata": {},
   "outputs": [
    {
     "data": {
      "text/plain": [
       "defaultdict(list,\n",
       "            {'Doc_5071': [0.007119899419217176,\n",
       "              0.005344548807147992,\n",
       "              0.013189612519417141,\n",
       "              0.02024323714946561]})"
      ]
     },
     "execution_count": 38,
     "metadata": {},
     "output_type": "execute_result"
    }
   ],
   "source": [
    "def documents_vectors(query,documents,vocabulary,inverted_index_v2):\n",
    "    vector_words = {}\n",
    "    for word in query: #iterate trough all query's words.\n",
    "        vector_word = {}\n",
    "        for i in inverted_index_v2[vocabulary[word]]:#find word in inverted index. \n",
    "            if i[0] in documents: #if the tuple contains a relevant document...\n",
    "                vector_word[i[0]]=i[1] #save its TFIDF score\n",
    "        vector_words[word] = vector_word #save vector containing TFIDFs of the ith query word\n",
    "    #Merge all dicts into one\n",
    "    vectors = defaultdict(list)\n",
    "    for d in vector_words.values(): \n",
    "        for key, value in d.items():\n",
    "            vectors[key].append(value)\n",
    "    return vectors\n",
    "\n",
    "#An example to show the output of the function\n",
    "query = [\"american\",\"museum\",\"test\",\"big\"]\n",
    "documents = documents_containing_whole_query(query,vocabulary,inverted_index_v1)\n",
    "documents_vectors(query,documents,vocabulary,inverted_index_v2)"
   ]
  },
  {
   "cell_type": "markdown",
   "id": "9107257b",
   "metadata": {},
   "source": [
    "Next step is to compute cosine similarity, for which we have decided to create a Dataframe that shows all relevant documents as rows, and all words in the query as columns, having as values their respective TFIDFS."
   ]
  },
  {
   "cell_type": "code",
   "execution_count": 39,
   "id": "6657b95b",
   "metadata": {},
   "outputs": [
    {
     "data": {
      "text/html": [
       "<div>\n",
       "<style scoped>\n",
       "    .dataframe tbody tr th:only-of-type {\n",
       "        vertical-align: middle;\n",
       "    }\n",
       "\n",
       "    .dataframe tbody tr th {\n",
       "        vertical-align: top;\n",
       "    }\n",
       "\n",
       "    .dataframe thead th {\n",
       "        text-align: right;\n",
       "    }\n",
       "</style>\n",
       "<table border=\"1\" class=\"dataframe\">\n",
       "  <thead>\n",
       "    <tr style=\"text-align: right;\">\n",
       "      <th></th>\n",
       "      <th>ID</th>\n",
       "      <th>american</th>\n",
       "      <th>museum</th>\n",
       "      <th>test</th>\n",
       "      <th>vector</th>\n",
       "      <th>Similarity</th>\n",
       "    </tr>\n",
       "  </thead>\n",
       "  <tbody>\n",
       "    <tr>\n",
       "      <th>0</th>\n",
       "      <td>Doc_1729</td>\n",
       "      <td>0.014191</td>\n",
       "      <td>0.031958</td>\n",
       "      <td>0.131447</td>\n",
       "      <td>[0.014191364148507704, 0.031958220418252276, 0...</td>\n",
       "      <td>0.926595</td>\n",
       "    </tr>\n",
       "    <tr>\n",
       "      <th>1</th>\n",
       "      <td>Doc_1964</td>\n",
       "      <td>0.040639</td>\n",
       "      <td>0.030506</td>\n",
       "      <td>0.025095</td>\n",
       "      <td>[0.04063890642527206, 0.030505574035604447, 0....</td>\n",
       "      <td>0.868637</td>\n",
       "    </tr>\n",
       "    <tr>\n",
       "      <th>2</th>\n",
       "      <td>Doc_3188</td>\n",
       "      <td>0.020254</td>\n",
       "      <td>0.045610</td>\n",
       "      <td>0.037520</td>\n",
       "      <td>[0.020253694464375072, 0.045610275742554225, 0...</td>\n",
       "      <td>0.888582</td>\n",
       "    </tr>\n",
       "    <tr>\n",
       "      <th>3</th>\n",
       "      <td>Doc_3313</td>\n",
       "      <td>0.007670</td>\n",
       "      <td>0.011514</td>\n",
       "      <td>0.014208</td>\n",
       "      <td>[0.007669597536142031, 0.011514358827164424, 0...</td>\n",
       "      <td>0.961887</td>\n",
       "    </tr>\n",
       "    <tr>\n",
       "      <th>4</th>\n",
       "      <td>Doc_4605</td>\n",
       "      <td>0.010809</td>\n",
       "      <td>0.048682</td>\n",
       "      <td>0.020024</td>\n",
       "      <td>[0.010808966475806387, 0.04868247048169, 0.020...</td>\n",
       "      <td>0.703107</td>\n",
       "    </tr>\n",
       "    <tr>\n",
       "      <th>5</th>\n",
       "      <td>Doc_5071</td>\n",
       "      <td>0.007120</td>\n",
       "      <td>0.005345</td>\n",
       "      <td>0.013190</td>\n",
       "      <td>[0.007119899419217176, 0.005344548807147992, 0...</td>\n",
       "      <td>1.000000</td>\n",
       "    </tr>\n",
       "    <tr>\n",
       "      <th>6</th>\n",
       "      <td>Doc_5571</td>\n",
       "      <td>0.009190</td>\n",
       "      <td>0.027594</td>\n",
       "      <td>0.051073</td>\n",
       "      <td>[0.00919000233405565, 0.027593881947037213, 0....</td>\n",
       "      <td>0.947907</td>\n",
       "    </tr>\n",
       "    <tr>\n",
       "      <th>7</th>\n",
       "      <td>Doc_5924</td>\n",
       "      <td>0.013725</td>\n",
       "      <td>0.051512</td>\n",
       "      <td>0.025425</td>\n",
       "      <td>[0.013724542959412056, 0.05151160527941979, 0....</td>\n",
       "      <td>0.753709</td>\n",
       "    </tr>\n",
       "    <tr>\n",
       "      <th>8</th>\n",
       "      <td>Doc_6777</td>\n",
       "      <td>0.015685</td>\n",
       "      <td>0.023548</td>\n",
       "      <td>0.029057</td>\n",
       "      <td>[0.015685191953613776, 0.023548162413449047, 0...</td>\n",
       "      <td>0.961887</td>\n",
       "    </tr>\n",
       "  </tbody>\n",
       "</table>\n",
       "</div>"
      ],
      "text/plain": [
       "         ID  american    museum      test  \\\n",
       "0  Doc_1729  0.014191  0.031958  0.131447   \n",
       "1  Doc_1964  0.040639  0.030506  0.025095   \n",
       "2  Doc_3188  0.020254  0.045610  0.037520   \n",
       "3  Doc_3313  0.007670  0.011514  0.014208   \n",
       "4  Doc_4605  0.010809  0.048682  0.020024   \n",
       "5  Doc_5071  0.007120  0.005345  0.013190   \n",
       "6  Doc_5571  0.009190  0.027594  0.051073   \n",
       "7  Doc_5924  0.013725  0.051512  0.025425   \n",
       "8  Doc_6777  0.015685  0.023548  0.029057   \n",
       "\n",
       "                                              vector  Similarity  \n",
       "0  [0.014191364148507704, 0.031958220418252276, 0...    0.926595  \n",
       "1  [0.04063890642527206, 0.030505574035604447, 0....    0.868637  \n",
       "2  [0.020253694464375072, 0.045610275742554225, 0...    0.888582  \n",
       "3  [0.007669597536142031, 0.011514358827164424, 0...    0.961887  \n",
       "4  [0.010808966475806387, 0.04868247048169, 0.020...    0.703107  \n",
       "5  [0.007119899419217176, 0.005344548807147992, 0...    1.000000  \n",
       "6  [0.00919000233405565, 0.027593881947037213, 0....    0.947907  \n",
       "7  [0.013724542959412056, 0.05151160527941979, 0....    0.753709  \n",
       "8  [0.015685191953613776, 0.023548162413449047, 0...    0.961887  "
      ]
     },
     "execution_count": 39,
     "metadata": {},
     "output_type": "execute_result"
    }
   ],
   "source": [
    "def similarity_dataframe(vectors,query,query_array):\n",
    "    similarity_df = pd.DataFrame.from_dict(vectors, orient='index', dtype=None , columns = query)\n",
    "    similarity_df[\"vector\"] = similarity_df.values.tolist()\n",
    "    similarity_df.columns = similarity_df.columns.get_level_values(0)\n",
    "    similarity_df = similarity_df.reset_index()\n",
    "    similarity_df = similarity_df.rename(columns={'index': 'ID'})\n",
    "    similarity_df[\"Similarity\"] = [np.dot(i,query_array )/(np.linalg.norm(i)*np.linalg.norm(query_array)) for i in similarity_df.iloc[: , -1].values]\n",
    "    \n",
    "    return similarity_df\n",
    "\n",
    "#An example to show the output of the function\n",
    "query = [\"american\",\"museum\",\"test\"]\n",
    "documents = documents_containing_whole_query(query,vocabulary,inverted_index_v1)\n",
    "query_array = query_vector(query,vocabulary,IDF_scores)\n",
    "vectors = documents_vectors(query,documents,vocabulary,inverted_index_v2)\n",
    "similarity_dataframe(vectors,query,query_array)"
   ]
  },
  {
   "cell_type": "markdown",
   "id": "975d210c",
   "metadata": {},
   "source": [
    "Lastly, we create a function that merges the original dataframe with the one that contains the similarity, we sort by similarity and show the <b>top 10 results."
   ]
  },
  {
   "cell_type": "code",
   "execution_count": 40,
   "id": "441600b6",
   "metadata": {},
   "outputs": [],
   "source": [
    "def query_result(reduced_df,similarity_df):\n",
    "    k_most_similar_df = pd.merge(reduced_df[[\"ID\",\"placeName\",\"placeDesc\",\"placeUrl\"]], similarity_df[[\"ID\",\"Similarity\"]], on= 'ID')\n",
    "    k_most_similar_df = k_most_similar_df[[\"placeName\",\"placeDesc\",\"placeUrl\",\"Similarity\"]]\n",
    "    k_most_similar_df = k_most_similar_df.sort_values(by = 'Similarity', ascending=False).head(10)\n",
    "    k_most_similar_df = k_most_similar_df.reset_index()\n",
    "    k_most_similar_df = k_most_similar_df.drop(\"index\",axis=1)\n",
    "    return k_most_similar_df"
   ]
  },
  {
   "cell_type": "markdown",
   "id": "53306a94",
   "metadata": {},
   "source": [
    "### This is the new search engine:"
   ]
  },
  {
   "cell_type": "code",
   "execution_count": 41,
   "id": "3c33b399",
   "metadata": {},
   "outputs": [
    {
     "name": "stdout",
     "output_type": "stream",
     "text": [
      "castle england medieval\n"
     ]
    },
    {
     "data": {
      "text/html": [
       "<div>\n",
       "<style scoped>\n",
       "    .dataframe tbody tr th:only-of-type {\n",
       "        vertical-align: middle;\n",
       "    }\n",
       "\n",
       "    .dataframe tbody tr th {\n",
       "        vertical-align: top;\n",
       "    }\n",
       "\n",
       "    .dataframe thead th {\n",
       "        text-align: right;\n",
       "    }\n",
       "</style>\n",
       "<table border=\"1\" class=\"dataframe\">\n",
       "  <thead>\n",
       "    <tr style=\"text-align: right;\">\n",
       "      <th></th>\n",
       "      <th>placeName</th>\n",
       "      <th>placeDesc</th>\n",
       "      <th>placeUrl</th>\n",
       "      <th>Similarity</th>\n",
       "    </tr>\n",
       "  </thead>\n",
       "  <tbody>\n",
       "    <tr>\n",
       "      <th>0</th>\n",
       "      <td>Hammond Castle Museum</td>\n",
       "      <td>John Hayes Hammond Jr. was a resourceful man. ...</td>\n",
       "      <td>https://www.atlasobscura.com/places/hammond-ca...</td>\n",
       "      <td>1.000000</td>\n",
       "    </tr>\n",
       "    <tr>\n",
       "      <th>1</th>\n",
       "      <td>The Caves of Nottingham</td>\n",
       "      <td>Underneath the modern city of Nottingham is a ...</td>\n",
       "      <td>https://www.atlasobscura.com/places/nottingham...</td>\n",
       "      <td>0.984682</td>\n",
       "    </tr>\n",
       "    <tr>\n",
       "      <th>2</th>\n",
       "      <td>Bodiam Castle</td>\n",
       "      <td>This picture-perfect moated medieval castle wa...</td>\n",
       "      <td>https://www.atlasobscura.com/places/bodiam-castle</td>\n",
       "      <td>0.903656</td>\n",
       "    </tr>\n",
       "    <tr>\n",
       "      <th>3</th>\n",
       "      <td>Strawberry Hill</td>\n",
       "      <td>This “little gothic castle” on the Thames spar...</td>\n",
       "      <td>https://www.atlasobscura.com/places/strawberry...</td>\n",
       "      <td>0.881948</td>\n",
       "    </tr>\n",
       "    <tr>\n",
       "      <th>4</th>\n",
       "      <td>Tintagel Castle</td>\n",
       "      <td>Tintagel Castle stands on windswept cliffs in ...</td>\n",
       "      <td>https://www.atlasobscura.com/places/tintagel-c...</td>\n",
       "      <td>0.867935</td>\n",
       "    </tr>\n",
       "    <tr>\n",
       "      <th>5</th>\n",
       "      <td>Graylyn Estate</td>\n",
       "      <td>Visitors to North Carolina may not expect to c...</td>\n",
       "      <td>https://www.atlasobscura.com/places/graylyn</td>\n",
       "      <td>0.845114</td>\n",
       "    </tr>\n",
       "    <tr>\n",
       "      <th>6</th>\n",
       "      <td>Alnwick Castle</td>\n",
       "      <td>Alnwick Castle is not only one of the largest ...</td>\n",
       "      <td>https://www.atlasobscura.com/places/alnwick-ca...</td>\n",
       "      <td>0.757747</td>\n",
       "    </tr>\n",
       "    <tr>\n",
       "      <th>7</th>\n",
       "      <td>Ye Olde Trip to Jerusalem</td>\n",
       "      <td>Built on a series of caves under Nottingham Ca...</td>\n",
       "      <td>https://www.atlasobscura.com/places/ye-olde-tr...</td>\n",
       "      <td>0.738358</td>\n",
       "    </tr>\n",
       "    <tr>\n",
       "      <th>8</th>\n",
       "      <td>Restormel Castle</td>\n",
       "      <td>There are many wonderful things about this med...</td>\n",
       "      <td>https://www.atlasobscura.com/places/restormel-...</td>\n",
       "      <td>0.669557</td>\n",
       "    </tr>\n",
       "    <tr>\n",
       "      <th>9</th>\n",
       "      <td>Nuremberg Castle</td>\n",
       "      <td>Nuremberg and the castle it was centered aroun...</td>\n",
       "      <td>https://www.atlasobscura.com/places/nuremberg-...</td>\n",
       "      <td>0.669557</td>\n",
       "    </tr>\n",
       "  </tbody>\n",
       "</table>\n",
       "</div>"
      ],
      "text/plain": [
       "                   placeName  \\\n",
       "0      Hammond Castle Museum   \n",
       "1    The Caves of Nottingham   \n",
       "2             Bodiam Castle    \n",
       "3            Strawberry Hill   \n",
       "4            Tintagel Castle   \n",
       "5             Graylyn Estate   \n",
       "6             Alnwick Castle   \n",
       "7  Ye Olde Trip to Jerusalem   \n",
       "8           Restormel Castle   \n",
       "9           Nuremberg Castle   \n",
       "\n",
       "                                           placeDesc  \\\n",
       "0  John Hayes Hammond Jr. was a resourceful man. ...   \n",
       "1  Underneath the modern city of Nottingham is a ...   \n",
       "2  This picture-perfect moated medieval castle wa...   \n",
       "3  This “little gothic castle” on the Thames spar...   \n",
       "4  Tintagel Castle stands on windswept cliffs in ...   \n",
       "5  Visitors to North Carolina may not expect to c...   \n",
       "6  Alnwick Castle is not only one of the largest ...   \n",
       "7  Built on a series of caves under Nottingham Ca...   \n",
       "8  There are many wonderful things about this med...   \n",
       "9  Nuremberg and the castle it was centered aroun...   \n",
       "\n",
       "                                            placeUrl  Similarity  \n",
       "0  https://www.atlasobscura.com/places/hammond-ca...    1.000000  \n",
       "1  https://www.atlasobscura.com/places/nottingham...    0.984682  \n",
       "2  https://www.atlasobscura.com/places/bodiam-castle    0.903656  \n",
       "3  https://www.atlasobscura.com/places/strawberry...    0.881948  \n",
       "4  https://www.atlasobscura.com/places/tintagel-c...    0.867935  \n",
       "5        https://www.atlasobscura.com/places/graylyn    0.845114  \n",
       "6  https://www.atlasobscura.com/places/alnwick-ca...    0.757747  \n",
       "7  https://www.atlasobscura.com/places/ye-olde-tr...    0.738358  \n",
       "8  https://www.atlasobscura.com/places/restormel-...    0.669557  \n",
       "9  https://www.atlasobscura.com/places/nuremberg-...    0.669557  "
      ]
     },
     "metadata": {},
     "output_type": "display_data"
    }
   ],
   "source": [
    "#1. Input a query\n",
    "query = q()\n",
    "#2.Find documents that contain all words within the query\n",
    "documents = documents_containing_whole_query(query,vocabulary,inverted_index_v1)\n",
    "#3.Create a vector with TFIDF scores of the words in the query\n",
    "query_array = query_vector(query,vocabulary,IDF_scores)\n",
    "#4. Create one vector per each unique word in the query, with TFIDF scores in each document\n",
    "vectors = documents_vectors(query,documents,vocabulary,inverted_index_v2)\n",
    "#5. Create a Dataframe that computes the\n",
    "similarity_df = similarity_dataframe(vectors,query,query_array)\n",
    "#6. Merge it by ID with the original dataframe and sort by similarity\n",
    "k_most_similar_df = query_result(reduced_df,similarity_df)\n",
    "if not k_most_similar_df.empty:\n",
    "    display(k_most_similar_df)\n",
    "else:\n",
    "    print(\"Sorry, no results for this search. Try again!\")"
   ]
  },
  {
   "cell_type": "markdown",
   "id": "1ac239bd",
   "metadata": {},
   "source": [
    "### 3. Define a new score!"
   ]
  },
  {
   "cell_type": "markdown",
   "id": "9c491bc9",
   "metadata": {},
   "source": [
    "We chose to compute two new metrics. The first is based on the popularity of each place, and it's computed as the mean between the number of people who visited the place and the number of people who want to visit the place. The second score is the distance between the user's coordinates and the place coordinates. \n",
    "\n",
    "The user can choose to be shown the most popular, less crowded or closest places. We also ask the users how many places they want to see. "
   ]
  },
  {
   "cell_type": "code",
   "execution_count": 44,
   "id": "7e0406aa",
   "metadata": {},
   "outputs": [
    {
     "data": {
      "text/html": [
       "<div>\n",
       "<style scoped>\n",
       "    .dataframe tbody tr th:only-of-type {\n",
       "        vertical-align: middle;\n",
       "    }\n",
       "\n",
       "    .dataframe tbody tr th {\n",
       "        vertical-align: top;\n",
       "    }\n",
       "\n",
       "    .dataframe thead th {\n",
       "        text-align: right;\n",
       "    }\n",
       "</style>\n",
       "<table border=\"1\" class=\"dataframe\">\n",
       "  <thead>\n",
       "    <tr style=\"text-align: right;\">\n",
       "      <th></th>\n",
       "      <th>ID</th>\n",
       "      <th>placeName</th>\n",
       "      <th>placeTags</th>\n",
       "      <th>placeDesc</th>\n",
       "      <th>placeShortDesc</th>\n",
       "      <th>numPeopleVisited</th>\n",
       "      <th>numPeopleWant</th>\n",
       "      <th>placeNearby</th>\n",
       "      <th>placeAddress</th>\n",
       "      <th>placeAlt</th>\n",
       "      <th>placeLong</th>\n",
       "      <th>placeEditors</th>\n",
       "      <th>placePubDate</th>\n",
       "      <th>placeRelatedLists</th>\n",
       "      <th>placeRelatedPlaces</th>\n",
       "      <th>placeUrl</th>\n",
       "    </tr>\n",
       "  </thead>\n",
       "  <tbody>\n",
       "    <tr>\n",
       "      <th>0</th>\n",
       "      <td>Doc_0</td>\n",
       "      <td>Swing at the End of the World</td>\n",
       "      <td>Banos, Ecuador</td>\n",
       "      <td>Deep in the Ecuadorian wilderness is a seismic...</td>\n",
       "      <td>A swing to dangle you off the very edge.</td>\n",
       "      <td>188</td>\n",
       "      <td>1241</td>\n",
       "      <td>Momia de Guano , Chimborazo , Iglesia de Balba...</td>\n",
       "      <td>Casa del Arbol Banos Ecuador</td>\n",
       "      <td>-1</td>\n",
       "      <td>-78.0</td>\n",
       "      <td>penelopeelizabeth , theghostofchristmaspast666...</td>\n",
       "      <td>2014-11-03</td>\n",
       "      <td>50 Obscure and Amazing Places to Visit in 2017...</td>\n",
       "      <td>Fantasy of Flight , Sloss Furnaces , Edison's ...</td>\n",
       "      <td>https://www.atlasobscura.com/places/swing-at-t...</td>\n",
       "    </tr>\n",
       "    <tr>\n",
       "      <th>1</th>\n",
       "      <td>Doc_1</td>\n",
       "      <td>Tinglewood Carvings</td>\n",
       "      <td>Montevallo, Alabama</td>\n",
       "      <td>Montevallo, Alabama’s Orr Park is a lovely nat...</td>\n",
       "      <td>Orr Park's dead trees have been carved into a ...</td>\n",
       "      <td>247</td>\n",
       "      <td>925</td>\n",
       "      <td>Pettus Randall Miniature Museum of American Hi...</td>\n",
       "      <td>277 Park Dr Montevallo, Alabama, 35115 United ...</td>\n",
       "      <td>33</td>\n",
       "      <td>-87.0</td>\n",
       "      <td>ladypalutena , wendiraven , tinewatts , Collec...</td>\n",
       "      <td>2016-03-22</td>\n",
       "      <td>NaN</td>\n",
       "      <td>Brea Redwood Grove , Crooked Slide Park , Doll...</td>\n",
       "      <td>https://www.atlasobscura.com/places/tinglewood...</td>\n",
       "    </tr>\n",
       "  </tbody>\n",
       "</table>\n",
       "</div>"
      ],
      "text/plain": [
       "      ID                      placeName            placeTags  \\\n",
       "0  Doc_0  Swing at the End of the World       Banos, Ecuador   \n",
       "1  Doc_1            Tinglewood Carvings  Montevallo, Alabama   \n",
       "\n",
       "                                           placeDesc  \\\n",
       "0  Deep in the Ecuadorian wilderness is a seismic...   \n",
       "1  Montevallo, Alabama’s Orr Park is a lovely nat...   \n",
       "\n",
       "                                      placeShortDesc  numPeopleVisited  \\\n",
       "0           A swing to dangle you off the very edge.               188   \n",
       "1  Orr Park's dead trees have been carved into a ...               247   \n",
       "\n",
       "   numPeopleWant                                        placeNearby  \\\n",
       "0           1241  Momia de Guano , Chimborazo , Iglesia de Balba...   \n",
       "1            925  Pettus Randall Miniature Museum of American Hi...   \n",
       "\n",
       "                                        placeAddress  placeAlt  placeLong  \\\n",
       "0                       Casa del Arbol Banos Ecuador        -1      -78.0   \n",
       "1  277 Park Dr Montevallo, Alabama, 35115 United ...        33      -87.0   \n",
       "\n",
       "                                        placeEditors placePubDate  \\\n",
       "0  penelopeelizabeth , theghostofchristmaspast666...   2014-11-03   \n",
       "1  ladypalutena , wendiraven , tinewatts , Collec...   2016-03-22   \n",
       "\n",
       "                                   placeRelatedLists  \\\n",
       "0  50 Obscure and Amazing Places to Visit in 2017...   \n",
       "1                                                NaN   \n",
       "\n",
       "                                  placeRelatedPlaces  \\\n",
       "0  Fantasy of Flight , Sloss Furnaces , Edison's ...   \n",
       "1  Brea Redwood Grove , Crooked Slide Park , Doll...   \n",
       "\n",
       "                                            placeUrl  \n",
       "0  https://www.atlasobscura.com/places/swing-at-t...  \n",
       "1  https://www.atlasobscura.com/places/tinglewood...  "
      ]
     },
     "execution_count": 44,
     "metadata": {},
     "output_type": "execute_result"
    }
   ],
   "source": [
    "# Add new column with Doc_id to dataframe.\n",
    "df_places = df_places.reset_index()\n",
    "df_places = df_places.rename(columns={'index': 'ID'})\n",
    "df_places['ID'] = 'Doc_' + df_places['ID'].astype(str)\n",
    "df_places.head(2)"
   ]
  },
  {
   "cell_type": "code",
   "execution_count": 23,
   "id": "313cb0e0",
   "metadata": {},
   "outputs": [
    {
     "name": "stdout",
     "output_type": "stream",
     "text": [
      "museum\n",
      "How many places you would to like to see?\n",
      "5\n",
      "\n",
      " Press: \n",
      " 1. Most popular places \n",
      " 2. Less visited places \n",
      " 3. Places near to you\n",
      "3\n",
      "Insert your coordinates (latitude longitude): \n",
      "\n",
      "41 12\n"
     ]
    },
    {
     "data": {
      "text/html": [
       "<div>\n",
       "<style scoped>\n",
       "    .dataframe tbody tr th:only-of-type {\n",
       "        vertical-align: middle;\n",
       "    }\n",
       "\n",
       "    .dataframe tbody tr th {\n",
       "        vertical-align: top;\n",
       "    }\n",
       "\n",
       "    .dataframe thead th {\n",
       "        text-align: right;\n",
       "    }\n",
       "</style>\n",
       "<table border=\"1\" class=\"dataframe\">\n",
       "  <thead>\n",
       "    <tr style=\"text-align: right;\">\n",
       "      <th></th>\n",
       "      <th>ID</th>\n",
       "      <th>placeName</th>\n",
       "      <th>placeTags</th>\n",
       "      <th>placeDesc</th>\n",
       "      <th>placeShortDesc</th>\n",
       "      <th>numPeopleVisited</th>\n",
       "      <th>numPeopleWant</th>\n",
       "      <th>placeNearby</th>\n",
       "      <th>placeAddress</th>\n",
       "      <th>placeAlt</th>\n",
       "      <th>placeLong</th>\n",
       "      <th>placeEditors</th>\n",
       "      <th>placePubDate</th>\n",
       "      <th>placeRelatedLists</th>\n",
       "      <th>placeRelatedPlaces</th>\n",
       "      <th>placeUrl</th>\n",
       "      <th>placeScore</th>\n",
       "    </tr>\n",
       "  </thead>\n",
       "  <tbody>\n",
       "    <tr>\n",
       "      <th>3881</th>\n",
       "      <td>Doc_3881</td>\n",
       "      <td>Villa of Tiberius</td>\n",
       "      <td>Sperlonga, Italy</td>\n",
       "      <td>Fascinating ruins and a huge grotto peer up at...</td>\n",
       "      <td>The Roman Emperor's lost summer home and grott...</td>\n",
       "      <td>73</td>\n",
       "      <td>579</td>\n",
       "      <td>Via Flacca Ruins , Appia Antica in Itri , Jewi...</td>\n",
       "      <td>Via Flacca Km Sperlonga Italy</td>\n",
       "      <td>41</td>\n",
       "      <td>13.0</td>\n",
       "      <td>mulishwhim , voyager16</td>\n",
       "      <td>2017-10-13</td>\n",
       "      <td>NaN</td>\n",
       "      <td>Ambleside Roman Fort , Chedworth Roman Villa ,...</td>\n",
       "      <td>https://www.atlasobscura.com/places/villa-and-...</td>\n",
       "      <td>84.134725</td>\n",
       "    </tr>\n",
       "    <tr>\n",
       "      <th>5887</th>\n",
       "      <td>Doc_5887</td>\n",
       "      <td>Vicus Caprarius</td>\n",
       "      <td>Rome, Italy</td>\n",
       "      <td>The Trevi Fountain is one of Rome’s most notab...</td>\n",
       "      <td>A forgotten \"city of water\" underneath the fam...</td>\n",
       "      <td>98</td>\n",
       "      <td>613</td>\n",
       "      <td>Papal Hearts at Santi Vincenzo e Anastasio a T...</td>\n",
       "      <td>25 Vicolo del Puttarello Rome, 00187 Italy</td>\n",
       "      <td>42</td>\n",
       "      <td>12.0</td>\n",
       "      <td>Fred Cherrygarden , napostrophe</td>\n",
       "      <td>2020-09-16</td>\n",
       "      <td>NaN</td>\n",
       "      <td>Casa Romuli , Resti del Ponte Romano (Roman Br...</td>\n",
       "      <td>https://www.atlasobscura.com/places/vicus-capr...</td>\n",
       "      <td>111.063588</td>\n",
       "    </tr>\n",
       "    <tr>\n",
       "      <th>3271</th>\n",
       "      <td>Doc_3271</td>\n",
       "      <td>The Museum of Roman Ships at Fiumicino</td>\n",
       "      <td>Rome, Italy</td>\n",
       "      <td>An accidental discovery delivered this unique ...</td>\n",
       "      <td>Roman-era ships unearthed...</td>\n",
       "      <td>73</td>\n",
       "      <td>425</td>\n",
       "      <td>Secret Compartment in Leonardo da Vinci Statue...</td>\n",
       "      <td>15 Via Alessandro Guidoni Fiumicino Airport Ro...</td>\n",
       "      <td>42</td>\n",
       "      <td>12.0</td>\n",
       "      <td>Rebekah Otto , mbison , ricorico913 , diegoton...</td>\n",
       "      <td>2010-02-08</td>\n",
       "      <td>NaN</td>\n",
       "      <td>Springs Park , Jekyll Island Amphitheater  , F...</td>\n",
       "      <td>https://www.atlasobscura.com/places/museum-rom...</td>\n",
       "      <td>111.063588</td>\n",
       "    </tr>\n",
       "    <tr>\n",
       "      <th>2159</th>\n",
       "      <td>Doc_2159</td>\n",
       "      <td>Mamertine Prison</td>\n",
       "      <td>Rome, Italy</td>\n",
       "      <td>While jails and prisons were not a common feat...</td>\n",
       "      <td>This ancient Roman prison is decorated with an...</td>\n",
       "      <td>260</td>\n",
       "      <td>685</td>\n",
       "      <td>Lacus Curtius , The Globe of the Vatican Obeli...</td>\n",
       "      <td>Via Clivo Argentario 1 Rome, 00186</td>\n",
       "      <td>42</td>\n",
       "      <td>12.0</td>\n",
       "      <td>alleywaykid , Saradactyl</td>\n",
       "      <td>2014-12-12</td>\n",
       "      <td>The World Turned Upside Down , 10 Places to Ex...</td>\n",
       "      <td>Clifton Cliff Jail , Dragsholm Castle , Lincol...</td>\n",
       "      <td>https://www.atlasobscura.com/places/mamertine-...</td>\n",
       "      <td>111.063588</td>\n",
       "    </tr>\n",
       "    <tr>\n",
       "      <th>3741</th>\n",
       "      <td>Doc_3741</td>\n",
       "      <td>Palazzo Naiadi Roman Baths</td>\n",
       "      <td>Rome, Italy</td>\n",
       "      <td>Amid the construction of the luxury Palazzo Na...</td>\n",
       "      <td>Ancient ruins hidden underneath a modern luxur...</td>\n",
       "      <td>329</td>\n",
       "      <td>438</td>\n",
       "      <td>Monument to the Fallen of Dogali , Meridian Li...</td>\n",
       "      <td>Piazza della Repubblica, 47 Rome Italy</td>\n",
       "      <td>42</td>\n",
       "      <td>12.0</td>\n",
       "      <td>dombrunaccioni , unitof , Collector of Experie...</td>\n",
       "      <td>2018-09-12</td>\n",
       "      <td>NaN</td>\n",
       "      <td>Parco Archeologico di Velia , Pompeii Thermopo...</td>\n",
       "      <td>https://www.atlasobscura.com/places/palazzo-na...</td>\n",
       "      <td>111.063588</td>\n",
       "    </tr>\n",
       "  </tbody>\n",
       "</table>\n",
       "</div>"
      ],
      "text/plain": [
       "            ID                               placeName         placeTags  \\\n",
       "3881  Doc_3881                       Villa of Tiberius  Sperlonga, Italy   \n",
       "5887  Doc_5887                         Vicus Caprarius       Rome, Italy   \n",
       "3271  Doc_3271  The Museum of Roman Ships at Fiumicino       Rome, Italy   \n",
       "2159  Doc_2159                        Mamertine Prison       Rome, Italy   \n",
       "3741  Doc_3741              Palazzo Naiadi Roman Baths       Rome, Italy   \n",
       "\n",
       "                                              placeDesc  \\\n",
       "3881  Fascinating ruins and a huge grotto peer up at...   \n",
       "5887  The Trevi Fountain is one of Rome’s most notab...   \n",
       "3271  An accidental discovery delivered this unique ...   \n",
       "2159  While jails and prisons were not a common feat...   \n",
       "3741  Amid the construction of the luxury Palazzo Na...   \n",
       "\n",
       "                                         placeShortDesc  numPeopleVisited  \\\n",
       "3881  The Roman Emperor's lost summer home and grott...                73   \n",
       "5887  A forgotten \"city of water\" underneath the fam...                98   \n",
       "3271                       Roman-era ships unearthed...                73   \n",
       "2159  This ancient Roman prison is decorated with an...               260   \n",
       "3741  Ancient ruins hidden underneath a modern luxur...               329   \n",
       "\n",
       "      numPeopleWant                                        placeNearby  \\\n",
       "3881            579  Via Flacca Ruins , Appia Antica in Itri , Jewi...   \n",
       "5887            613  Papal Hearts at Santi Vincenzo e Anastasio a T...   \n",
       "3271            425  Secret Compartment in Leonardo da Vinci Statue...   \n",
       "2159            685  Lacus Curtius , The Globe of the Vatican Obeli...   \n",
       "3741            438  Monument to the Fallen of Dogali , Meridian Li...   \n",
       "\n",
       "                                           placeAddress  placeAlt  placeLong  \\\n",
       "3881                      Via Flacca Km Sperlonga Italy        41       13.0   \n",
       "5887         25 Vicolo del Puttarello Rome, 00187 Italy        42       12.0   \n",
       "3271  15 Via Alessandro Guidoni Fiumicino Airport Ro...        42       12.0   \n",
       "2159                 Via Clivo Argentario 1 Rome, 00186        42       12.0   \n",
       "3741             Piazza della Repubblica, 47 Rome Italy        42       12.0   \n",
       "\n",
       "                                           placeEditors placePubDate  \\\n",
       "3881                             mulishwhim , voyager16   2017-10-13   \n",
       "5887                    Fred Cherrygarden , napostrophe   2020-09-16   \n",
       "3271  Rebekah Otto , mbison , ricorico913 , diegoton...   2010-02-08   \n",
       "2159                           alleywaykid , Saradactyl   2014-12-12   \n",
       "3741  dombrunaccioni , unitof , Collector of Experie...   2018-09-12   \n",
       "\n",
       "                                      placeRelatedLists  \\\n",
       "3881                                                NaN   \n",
       "5887                                                NaN   \n",
       "3271                                                NaN   \n",
       "2159  The World Turned Upside Down , 10 Places to Ex...   \n",
       "3741                                                NaN   \n",
       "\n",
       "                                     placeRelatedPlaces  \\\n",
       "3881  Ambleside Roman Fort , Chedworth Roman Villa ,...   \n",
       "5887  Casa Romuli , Resti del Ponte Romano (Roman Br...   \n",
       "3271  Springs Park , Jekyll Island Amphitheater  , F...   \n",
       "2159  Clifton Cliff Jail , Dragsholm Castle , Lincol...   \n",
       "3741  Parco Archeologico di Velia , Pompeii Thermopo...   \n",
       "\n",
       "                                               placeUrl  placeScore  \n",
       "3881  https://www.atlasobscura.com/places/villa-and-...   84.134725  \n",
       "5887  https://www.atlasobscura.com/places/vicus-capr...  111.063588  \n",
       "3271  https://www.atlasobscura.com/places/museum-rom...  111.063588  \n",
       "2159  https://www.atlasobscura.com/places/mamertine-...  111.063588  \n",
       "3741  https://www.atlasobscura.com/places/palazzo-na...  111.063588  "
      ]
     },
     "execution_count": 23,
     "metadata": {},
     "output_type": "execute_result"
    }
   ],
   "source": [
    "warnings.filterwarnings(\"ignore\")\n",
    "\n",
    "#1. Input a query\n",
    "query = q()\n",
    "#2. Find documents that contain all words within the query\n",
    "places = documents_containing_whole_query(query,vocabulary,inverted_index_v1)\n",
    "#3. Ask the user how many places (k) to be shown\n",
    "print('How many places you would to like to see?')\n",
    "k = int(input())\n",
    "#4. Ask the user the searching criteria\n",
    "print('\\n Press: \\n 1. Most popular places \\n 2. Less visited places \\n 3. Places near to you')\n",
    "choice = int(input())\n",
    "\n",
    "# Reducing the whole df taking only the rows of the places that contain all the words in the query\n",
    "reduced_df2 = df_places[df_places['ID'].isin(places)]\n",
    "\n",
    "\n",
    "# if users want to see the most popular places or the less popular places\n",
    "if choice == 1 or choice == 2:\n",
    "    # adding a col with the new score 'popularity' computed as the mean of numPeopleVisited and numPeopleWant\n",
    "    reduced_df2['placeScore'] = (reduced_df2['numPeopleVisited'] + reduced_df2['numPeopleWant']) / 2\n",
    "    # sorting the dataframe with respect to the new score\n",
    "    reduced_df2 = reduced_df2.sort_values(by = 'placeScore')\n",
    "    # results\n",
    "    if choice == 1:\n",
    "        output = reduced_df2[['placeName', 'placeDesc', 'placeUrl', 'placeScore']].tail(k)\n",
    "    elif choice == 2:\n",
    "        output = reduced_df2[['placeName', 'placeDesc', 'placeUrl', 'placeScore']].head(k) \n",
    "# if users want to see the places near to them\n",
    "if choice == 3:\n",
    "    # asking the users their position in coordinates\n",
    "    print('Insert your coordinates (latitude longitude): \\n')\n",
    "    alt, long = map(int, input().split())\n",
    "    #computing the distance between the position of the user and the position of each place, it will bw the new score\n",
    "    latitudes = list(reduced_df2['placeAlt'])\n",
    "    longitudes = list(reduced_df2['placeLong'])\n",
    "    scores = [geopy.distance.geodesic((alt, long), (latitudes[i], longitudes[i])).km for i in range(len(reduced_df2))]\n",
    "    # adding a col with the new score 'distance' and sorting the dataframe\n",
    "    reduced_df2['placeScore'] = scores\n",
    "    # result\n",
    "    output = reduced_df2.sort_values(by = 'placeScore', ascending = True).head(k)\n",
    "\n",
    "#print\n",
    "output"
   ]
  },
  {
   "cell_type": "markdown",
   "id": "345f044a",
   "metadata": {},
   "source": [
    "### 4. Visualizing the most relevant places"
   ]
  },
  {
   "cell_type": "markdown",
   "id": "95d53e7f",
   "metadata": {},
   "source": [
    "We plot the map with the most relevant places, centered on the posistion of the user. "
   ]
  },
  {
   "cell_type": "code",
   "execution_count": 24,
   "id": "85044a01",
   "metadata": {},
   "outputs": [
    {
     "data": {
      "application/vnd.plotly.v1+json": {
       "config": {
        "plotlyServerURL": "https://plot.ly"
       },
       "data": [
        {
         "customdata": [
          [
           "Villa of Tiberius",
           "Via Flacca Km Sperlonga Italy",
           73
          ],
          [
           "Vicus Caprarius",
           "25 Vicolo del Puttarello Rome, 00187 Italy",
           98
          ],
          [
           "The Museum of Roman Ships at Fiumicino",
           "15 Via Alessandro Guidoni Fiumicino Airport Rome, 00054",
           73
          ],
          [
           "Mamertine Prison",
           "Via Clivo Argentario 1 Rome, 00186",
           260
          ],
          [
           "Palazzo Naiadi Roman Baths",
           "Piazza della Repubblica, 47 Rome Italy",
           329
          ]
         ],
         "hovertemplate": "numPeopleVisited=%{marker.color}<br>placeAlt=%{lat}<br>placeLong=%{lon}<br>placeName=%{customdata[0]}<br>placeAddress=%{customdata[1]}<extra></extra>",
         "lat": [
          41,
          42,
          42,
          42,
          42
         ],
         "legendgroup": "",
         "lon": [
          13,
          12,
          12,
          12,
          12
         ],
         "marker": {
          "color": [
           73,
           98,
           73,
           260,
           329
          ],
          "coloraxis": "coloraxis",
          "size": [
           73,
           98,
           73,
           260,
           329
          ],
          "sizemode": "area",
          "sizeref": 0.8225
         },
         "mode": "markers",
         "name": "",
         "showlegend": false,
         "subplot": "mapbox",
         "type": "scattermapbox"
        }
       ],
       "layout": {
        "coloraxis": {
         "colorbar": {
          "title": {
           "text": "numPeopleVisited"
          }
         },
         "colorscale": [
          [
           0,
           "#0d0887"
          ],
          [
           0.1111111111111111,
           "#46039f"
          ],
          [
           0.2222222222222222,
           "#7201a8"
          ],
          [
           0.3333333333333333,
           "#9c179e"
          ],
          [
           0.4444444444444444,
           "#bd3786"
          ],
          [
           0.5555555555555556,
           "#d8576b"
          ],
          [
           0.6666666666666666,
           "#ed7953"
          ],
          [
           0.7777777777777778,
           "#fb9f3a"
          ],
          [
           0.8888888888888888,
           "#fdca26"
          ],
          [
           1,
           "#f0f921"
          ]
         ]
        },
        "height": 600,
        "legend": {
         "itemsizing": "constant",
         "tracegroupgap": 0
        },
        "mapbox": {
         "center": {
          "lat": 41,
          "lon": 12
         },
         "domain": {
          "x": [
           0,
           1
          ],
          "y": [
           0,
           1
          ]
         },
         "style": "carto-positron",
         "zoom": 0.5
        },
        "margin": {
         "t": 60
        },
        "template": {
         "data": {
          "bar": [
           {
            "error_x": {
             "color": "#2a3f5f"
            },
            "error_y": {
             "color": "#2a3f5f"
            },
            "marker": {
             "line": {
              "color": "#E5ECF6",
              "width": 0.5
             },
             "pattern": {
              "fillmode": "overlay",
              "size": 10,
              "solidity": 0.2
             }
            },
            "type": "bar"
           }
          ],
          "barpolar": [
           {
            "marker": {
             "line": {
              "color": "#E5ECF6",
              "width": 0.5
             },
             "pattern": {
              "fillmode": "overlay",
              "size": 10,
              "solidity": 0.2
             }
            },
            "type": "barpolar"
           }
          ],
          "carpet": [
           {
            "aaxis": {
             "endlinecolor": "#2a3f5f",
             "gridcolor": "white",
             "linecolor": "white",
             "minorgridcolor": "white",
             "startlinecolor": "#2a3f5f"
            },
            "baxis": {
             "endlinecolor": "#2a3f5f",
             "gridcolor": "white",
             "linecolor": "white",
             "minorgridcolor": "white",
             "startlinecolor": "#2a3f5f"
            },
            "type": "carpet"
           }
          ],
          "choropleth": [
           {
            "colorbar": {
             "outlinewidth": 0,
             "ticks": ""
            },
            "type": "choropleth"
           }
          ],
          "contour": [
           {
            "colorbar": {
             "outlinewidth": 0,
             "ticks": ""
            },
            "colorscale": [
             [
              0,
              "#0d0887"
             ],
             [
              0.1111111111111111,
              "#46039f"
             ],
             [
              0.2222222222222222,
              "#7201a8"
             ],
             [
              0.3333333333333333,
              "#9c179e"
             ],
             [
              0.4444444444444444,
              "#bd3786"
             ],
             [
              0.5555555555555556,
              "#d8576b"
             ],
             [
              0.6666666666666666,
              "#ed7953"
             ],
             [
              0.7777777777777778,
              "#fb9f3a"
             ],
             [
              0.8888888888888888,
              "#fdca26"
             ],
             [
              1,
              "#f0f921"
             ]
            ],
            "type": "contour"
           }
          ],
          "contourcarpet": [
           {
            "colorbar": {
             "outlinewidth": 0,
             "ticks": ""
            },
            "type": "contourcarpet"
           }
          ],
          "heatmap": [
           {
            "colorbar": {
             "outlinewidth": 0,
             "ticks": ""
            },
            "colorscale": [
             [
              0,
              "#0d0887"
             ],
             [
              0.1111111111111111,
              "#46039f"
             ],
             [
              0.2222222222222222,
              "#7201a8"
             ],
             [
              0.3333333333333333,
              "#9c179e"
             ],
             [
              0.4444444444444444,
              "#bd3786"
             ],
             [
              0.5555555555555556,
              "#d8576b"
             ],
             [
              0.6666666666666666,
              "#ed7953"
             ],
             [
              0.7777777777777778,
              "#fb9f3a"
             ],
             [
              0.8888888888888888,
              "#fdca26"
             ],
             [
              1,
              "#f0f921"
             ]
            ],
            "type": "heatmap"
           }
          ],
          "heatmapgl": [
           {
            "colorbar": {
             "outlinewidth": 0,
             "ticks": ""
            },
            "colorscale": [
             [
              0,
              "#0d0887"
             ],
             [
              0.1111111111111111,
              "#46039f"
             ],
             [
              0.2222222222222222,
              "#7201a8"
             ],
             [
              0.3333333333333333,
              "#9c179e"
             ],
             [
              0.4444444444444444,
              "#bd3786"
             ],
             [
              0.5555555555555556,
              "#d8576b"
             ],
             [
              0.6666666666666666,
              "#ed7953"
             ],
             [
              0.7777777777777778,
              "#fb9f3a"
             ],
             [
              0.8888888888888888,
              "#fdca26"
             ],
             [
              1,
              "#f0f921"
             ]
            ],
            "type": "heatmapgl"
           }
          ],
          "histogram": [
           {
            "marker": {
             "pattern": {
              "fillmode": "overlay",
              "size": 10,
              "solidity": 0.2
             }
            },
            "type": "histogram"
           }
          ],
          "histogram2d": [
           {
            "colorbar": {
             "outlinewidth": 0,
             "ticks": ""
            },
            "colorscale": [
             [
              0,
              "#0d0887"
             ],
             [
              0.1111111111111111,
              "#46039f"
             ],
             [
              0.2222222222222222,
              "#7201a8"
             ],
             [
              0.3333333333333333,
              "#9c179e"
             ],
             [
              0.4444444444444444,
              "#bd3786"
             ],
             [
              0.5555555555555556,
              "#d8576b"
             ],
             [
              0.6666666666666666,
              "#ed7953"
             ],
             [
              0.7777777777777778,
              "#fb9f3a"
             ],
             [
              0.8888888888888888,
              "#fdca26"
             ],
             [
              1,
              "#f0f921"
             ]
            ],
            "type": "histogram2d"
           }
          ],
          "histogram2dcontour": [
           {
            "colorbar": {
             "outlinewidth": 0,
             "ticks": ""
            },
            "colorscale": [
             [
              0,
              "#0d0887"
             ],
             [
              0.1111111111111111,
              "#46039f"
             ],
             [
              0.2222222222222222,
              "#7201a8"
             ],
             [
              0.3333333333333333,
              "#9c179e"
             ],
             [
              0.4444444444444444,
              "#bd3786"
             ],
             [
              0.5555555555555556,
              "#d8576b"
             ],
             [
              0.6666666666666666,
              "#ed7953"
             ],
             [
              0.7777777777777778,
              "#fb9f3a"
             ],
             [
              0.8888888888888888,
              "#fdca26"
             ],
             [
              1,
              "#f0f921"
             ]
            ],
            "type": "histogram2dcontour"
           }
          ],
          "mesh3d": [
           {
            "colorbar": {
             "outlinewidth": 0,
             "ticks": ""
            },
            "type": "mesh3d"
           }
          ],
          "parcoords": [
           {
            "line": {
             "colorbar": {
              "outlinewidth": 0,
              "ticks": ""
             }
            },
            "type": "parcoords"
           }
          ],
          "pie": [
           {
            "automargin": true,
            "type": "pie"
           }
          ],
          "scatter": [
           {
            "marker": {
             "colorbar": {
              "outlinewidth": 0,
              "ticks": ""
             }
            },
            "type": "scatter"
           }
          ],
          "scatter3d": [
           {
            "line": {
             "colorbar": {
              "outlinewidth": 0,
              "ticks": ""
             }
            },
            "marker": {
             "colorbar": {
              "outlinewidth": 0,
              "ticks": ""
             }
            },
            "type": "scatter3d"
           }
          ],
          "scattercarpet": [
           {
            "marker": {
             "colorbar": {
              "outlinewidth": 0,
              "ticks": ""
             }
            },
            "type": "scattercarpet"
           }
          ],
          "scattergeo": [
           {
            "marker": {
             "colorbar": {
              "outlinewidth": 0,
              "ticks": ""
             }
            },
            "type": "scattergeo"
           }
          ],
          "scattergl": [
           {
            "marker": {
             "colorbar": {
              "outlinewidth": 0,
              "ticks": ""
             }
            },
            "type": "scattergl"
           }
          ],
          "scattermapbox": [
           {
            "marker": {
             "colorbar": {
              "outlinewidth": 0,
              "ticks": ""
             }
            },
            "type": "scattermapbox"
           }
          ],
          "scatterpolar": [
           {
            "marker": {
             "colorbar": {
              "outlinewidth": 0,
              "ticks": ""
             }
            },
            "type": "scatterpolar"
           }
          ],
          "scatterpolargl": [
           {
            "marker": {
             "colorbar": {
              "outlinewidth": 0,
              "ticks": ""
             }
            },
            "type": "scatterpolargl"
           }
          ],
          "scatterternary": [
           {
            "marker": {
             "colorbar": {
              "outlinewidth": 0,
              "ticks": ""
             }
            },
            "type": "scatterternary"
           }
          ],
          "surface": [
           {
            "colorbar": {
             "outlinewidth": 0,
             "ticks": ""
            },
            "colorscale": [
             [
              0,
              "#0d0887"
             ],
             [
              0.1111111111111111,
              "#46039f"
             ],
             [
              0.2222222222222222,
              "#7201a8"
             ],
             [
              0.3333333333333333,
              "#9c179e"
             ],
             [
              0.4444444444444444,
              "#bd3786"
             ],
             [
              0.5555555555555556,
              "#d8576b"
             ],
             [
              0.6666666666666666,
              "#ed7953"
             ],
             [
              0.7777777777777778,
              "#fb9f3a"
             ],
             [
              0.8888888888888888,
              "#fdca26"
             ],
             [
              1,
              "#f0f921"
             ]
            ],
            "type": "surface"
           }
          ],
          "table": [
           {
            "cells": {
             "fill": {
              "color": "#EBF0F8"
             },
             "line": {
              "color": "white"
             }
            },
            "header": {
             "fill": {
              "color": "#C8D4E3"
             },
             "line": {
              "color": "white"
             }
            },
            "type": "table"
           }
          ]
         },
         "layout": {
          "annotationdefaults": {
           "arrowcolor": "#2a3f5f",
           "arrowhead": 0,
           "arrowwidth": 1
          },
          "autotypenumbers": "strict",
          "coloraxis": {
           "colorbar": {
            "outlinewidth": 0,
            "ticks": ""
           }
          },
          "colorscale": {
           "diverging": [
            [
             0,
             "#8e0152"
            ],
            [
             0.1,
             "#c51b7d"
            ],
            [
             0.2,
             "#de77ae"
            ],
            [
             0.3,
             "#f1b6da"
            ],
            [
             0.4,
             "#fde0ef"
            ],
            [
             0.5,
             "#f7f7f7"
            ],
            [
             0.6,
             "#e6f5d0"
            ],
            [
             0.7,
             "#b8e186"
            ],
            [
             0.8,
             "#7fbc41"
            ],
            [
             0.9,
             "#4d9221"
            ],
            [
             1,
             "#276419"
            ]
           ],
           "sequential": [
            [
             0,
             "#0d0887"
            ],
            [
             0.1111111111111111,
             "#46039f"
            ],
            [
             0.2222222222222222,
             "#7201a8"
            ],
            [
             0.3333333333333333,
             "#9c179e"
            ],
            [
             0.4444444444444444,
             "#bd3786"
            ],
            [
             0.5555555555555556,
             "#d8576b"
            ],
            [
             0.6666666666666666,
             "#ed7953"
            ],
            [
             0.7777777777777778,
             "#fb9f3a"
            ],
            [
             0.8888888888888888,
             "#fdca26"
            ],
            [
             1,
             "#f0f921"
            ]
           ],
           "sequentialminus": [
            [
             0,
             "#0d0887"
            ],
            [
             0.1111111111111111,
             "#46039f"
            ],
            [
             0.2222222222222222,
             "#7201a8"
            ],
            [
             0.3333333333333333,
             "#9c179e"
            ],
            [
             0.4444444444444444,
             "#bd3786"
            ],
            [
             0.5555555555555556,
             "#d8576b"
            ],
            [
             0.6666666666666666,
             "#ed7953"
            ],
            [
             0.7777777777777778,
             "#fb9f3a"
            ],
            [
             0.8888888888888888,
             "#fdca26"
            ],
            [
             1,
             "#f0f921"
            ]
           ]
          },
          "colorway": [
           "#636efa",
           "#EF553B",
           "#00cc96",
           "#ab63fa",
           "#FFA15A",
           "#19d3f3",
           "#FF6692",
           "#B6E880",
           "#FF97FF",
           "#FECB52"
          ],
          "font": {
           "color": "#2a3f5f"
          },
          "geo": {
           "bgcolor": "white",
           "lakecolor": "white",
           "landcolor": "#E5ECF6",
           "showlakes": true,
           "showland": true,
           "subunitcolor": "white"
          },
          "hoverlabel": {
           "align": "left"
          },
          "hovermode": "closest",
          "mapbox": {
           "style": "light"
          },
          "paper_bgcolor": "white",
          "plot_bgcolor": "#E5ECF6",
          "polar": {
           "angularaxis": {
            "gridcolor": "white",
            "linecolor": "white",
            "ticks": ""
           },
           "bgcolor": "#E5ECF6",
           "radialaxis": {
            "gridcolor": "white",
            "linecolor": "white",
            "ticks": ""
           }
          },
          "scene": {
           "xaxis": {
            "backgroundcolor": "#E5ECF6",
            "gridcolor": "white",
            "gridwidth": 2,
            "linecolor": "white",
            "showbackground": true,
            "ticks": "",
            "zerolinecolor": "white"
           },
           "yaxis": {
            "backgroundcolor": "#E5ECF6",
            "gridcolor": "white",
            "gridwidth": 2,
            "linecolor": "white",
            "showbackground": true,
            "ticks": "",
            "zerolinecolor": "white"
           },
           "zaxis": {
            "backgroundcolor": "#E5ECF6",
            "gridcolor": "white",
            "gridwidth": 2,
            "linecolor": "white",
            "showbackground": true,
            "ticks": "",
            "zerolinecolor": "white"
           }
          },
          "shapedefaults": {
           "line": {
            "color": "#2a3f5f"
           }
          },
          "ternary": {
           "aaxis": {
            "gridcolor": "white",
            "linecolor": "white",
            "ticks": ""
           },
           "baxis": {
            "gridcolor": "white",
            "linecolor": "white",
            "ticks": ""
           },
           "bgcolor": "#E5ECF6",
           "caxis": {
            "gridcolor": "white",
            "linecolor": "white",
            "ticks": ""
           }
          },
          "title": {
           "x": 0.05
          },
          "xaxis": {
           "automargin": true,
           "gridcolor": "white",
           "linecolor": "white",
           "ticks": "",
           "title": {
            "standoff": 15
           },
           "zerolinecolor": "white",
           "zerolinewidth": 2
          },
          "yaxis": {
           "automargin": true,
           "gridcolor": "white",
           "linecolor": "white",
           "ticks": "",
           "title": {
            "standoff": 15
           },
           "zerolinecolor": "white",
           "zerolinewidth": 2
          }
         }
        },
        "title": {
         "text": "Maps visualization of the most relevant place",
         "x": 0.45,
         "xanchor": "center",
         "y": 0.95,
         "yanchor": "top"
        },
        "width": 1000
       }
      },
      "text/html": [
       "<div>                            <div id=\"810f2770-78ca-453b-ae0f-734bc31e2d08\" class=\"plotly-graph-div\" style=\"height:600px; width:1000px;\"></div>            <script type=\"text/javascript\">                require([\"plotly\"], function(Plotly) {                    window.PLOTLYENV=window.PLOTLYENV || {};                                    if (document.getElementById(\"810f2770-78ca-453b-ae0f-734bc31e2d08\")) {                    Plotly.newPlot(                        \"810f2770-78ca-453b-ae0f-734bc31e2d08\",                        [{\"customdata\":[[\"Villa of Tiberius\",\"Via Flacca Km Sperlonga Italy\",73],[\"Vicus Caprarius\",\"25 Vicolo del Puttarello Rome, 00187 Italy\",98],[\"The Museum of Roman Ships at Fiumicino\",\"15 Via Alessandro Guidoni Fiumicino Airport Rome, 00054\",73],[\"Mamertine Prison\",\"Via Clivo Argentario 1 Rome, 00186\",260],[\"Palazzo Naiadi Roman Baths\",\"Piazza della Repubblica, 47 Rome Italy\",329]],\"hovertemplate\":\"numPeopleVisited=%{marker.color}<br>placeAlt=%{lat}<br>placeLong=%{lon}<br>placeName=%{customdata[0]}<br>placeAddress=%{customdata[1]}<extra></extra>\",\"lat\":[41,42,42,42,42],\"legendgroup\":\"\",\"lon\":[13.0,12.0,12.0,12.0,12.0],\"marker\":{\"color\":[73,98,73,260,329],\"coloraxis\":\"coloraxis\",\"size\":[73,98,73,260,329],\"sizemode\":\"area\",\"sizeref\":0.8225},\"mode\":\"markers\",\"name\":\"\",\"showlegend\":false,\"subplot\":\"mapbox\",\"type\":\"scattermapbox\"}],                        {\"template\":{\"data\":{\"bar\":[{\"error_x\":{\"color\":\"#2a3f5f\"},\"error_y\":{\"color\":\"#2a3f5f\"},\"marker\":{\"line\":{\"color\":\"#E5ECF6\",\"width\":0.5},\"pattern\":{\"fillmode\":\"overlay\",\"size\":10,\"solidity\":0.2}},\"type\":\"bar\"}],\"barpolar\":[{\"marker\":{\"line\":{\"color\":\"#E5ECF6\",\"width\":0.5},\"pattern\":{\"fillmode\":\"overlay\",\"size\":10,\"solidity\":0.2}},\"type\":\"barpolar\"}],\"carpet\":[{\"aaxis\":{\"endlinecolor\":\"#2a3f5f\",\"gridcolor\":\"white\",\"linecolor\":\"white\",\"minorgridcolor\":\"white\",\"startlinecolor\":\"#2a3f5f\"},\"baxis\":{\"endlinecolor\":\"#2a3f5f\",\"gridcolor\":\"white\",\"linecolor\":\"white\",\"minorgridcolor\":\"white\",\"startlinecolor\":\"#2a3f5f\"},\"type\":\"carpet\"}],\"choropleth\":[{\"colorbar\":{\"outlinewidth\":0,\"ticks\":\"\"},\"type\":\"choropleth\"}],\"contour\":[{\"colorbar\":{\"outlinewidth\":0,\"ticks\":\"\"},\"colorscale\":[[0.0,\"#0d0887\"],[0.1111111111111111,\"#46039f\"],[0.2222222222222222,\"#7201a8\"],[0.3333333333333333,\"#9c179e\"],[0.4444444444444444,\"#bd3786\"],[0.5555555555555556,\"#d8576b\"],[0.6666666666666666,\"#ed7953\"],[0.7777777777777778,\"#fb9f3a\"],[0.8888888888888888,\"#fdca26\"],[1.0,\"#f0f921\"]],\"type\":\"contour\"}],\"contourcarpet\":[{\"colorbar\":{\"outlinewidth\":0,\"ticks\":\"\"},\"type\":\"contourcarpet\"}],\"heatmap\":[{\"colorbar\":{\"outlinewidth\":0,\"ticks\":\"\"},\"colorscale\":[[0.0,\"#0d0887\"],[0.1111111111111111,\"#46039f\"],[0.2222222222222222,\"#7201a8\"],[0.3333333333333333,\"#9c179e\"],[0.4444444444444444,\"#bd3786\"],[0.5555555555555556,\"#d8576b\"],[0.6666666666666666,\"#ed7953\"],[0.7777777777777778,\"#fb9f3a\"],[0.8888888888888888,\"#fdca26\"],[1.0,\"#f0f921\"]],\"type\":\"heatmap\"}],\"heatmapgl\":[{\"colorbar\":{\"outlinewidth\":0,\"ticks\":\"\"},\"colorscale\":[[0.0,\"#0d0887\"],[0.1111111111111111,\"#46039f\"],[0.2222222222222222,\"#7201a8\"],[0.3333333333333333,\"#9c179e\"],[0.4444444444444444,\"#bd3786\"],[0.5555555555555556,\"#d8576b\"],[0.6666666666666666,\"#ed7953\"],[0.7777777777777778,\"#fb9f3a\"],[0.8888888888888888,\"#fdca26\"],[1.0,\"#f0f921\"]],\"type\":\"heatmapgl\"}],\"histogram\":[{\"marker\":{\"pattern\":{\"fillmode\":\"overlay\",\"size\":10,\"solidity\":0.2}},\"type\":\"histogram\"}],\"histogram2d\":[{\"colorbar\":{\"outlinewidth\":0,\"ticks\":\"\"},\"colorscale\":[[0.0,\"#0d0887\"],[0.1111111111111111,\"#46039f\"],[0.2222222222222222,\"#7201a8\"],[0.3333333333333333,\"#9c179e\"],[0.4444444444444444,\"#bd3786\"],[0.5555555555555556,\"#d8576b\"],[0.6666666666666666,\"#ed7953\"],[0.7777777777777778,\"#fb9f3a\"],[0.8888888888888888,\"#fdca26\"],[1.0,\"#f0f921\"]],\"type\":\"histogram2d\"}],\"histogram2dcontour\":[{\"colorbar\":{\"outlinewidth\":0,\"ticks\":\"\"},\"colorscale\":[[0.0,\"#0d0887\"],[0.1111111111111111,\"#46039f\"],[0.2222222222222222,\"#7201a8\"],[0.3333333333333333,\"#9c179e\"],[0.4444444444444444,\"#bd3786\"],[0.5555555555555556,\"#d8576b\"],[0.6666666666666666,\"#ed7953\"],[0.7777777777777778,\"#fb9f3a\"],[0.8888888888888888,\"#fdca26\"],[1.0,\"#f0f921\"]],\"type\":\"histogram2dcontour\"}],\"mesh3d\":[{\"colorbar\":{\"outlinewidth\":0,\"ticks\":\"\"},\"type\":\"mesh3d\"}],\"parcoords\":[{\"line\":{\"colorbar\":{\"outlinewidth\":0,\"ticks\":\"\"}},\"type\":\"parcoords\"}],\"pie\":[{\"automargin\":true,\"type\":\"pie\"}],\"scatter\":[{\"marker\":{\"colorbar\":{\"outlinewidth\":0,\"ticks\":\"\"}},\"type\":\"scatter\"}],\"scatter3d\":[{\"line\":{\"colorbar\":{\"outlinewidth\":0,\"ticks\":\"\"}},\"marker\":{\"colorbar\":{\"outlinewidth\":0,\"ticks\":\"\"}},\"type\":\"scatter3d\"}],\"scattercarpet\":[{\"marker\":{\"colorbar\":{\"outlinewidth\":0,\"ticks\":\"\"}},\"type\":\"scattercarpet\"}],\"scattergeo\":[{\"marker\":{\"colorbar\":{\"outlinewidth\":0,\"ticks\":\"\"}},\"type\":\"scattergeo\"}],\"scattergl\":[{\"marker\":{\"colorbar\":{\"outlinewidth\":0,\"ticks\":\"\"}},\"type\":\"scattergl\"}],\"scattermapbox\":[{\"marker\":{\"colorbar\":{\"outlinewidth\":0,\"ticks\":\"\"}},\"type\":\"scattermapbox\"}],\"scatterpolar\":[{\"marker\":{\"colorbar\":{\"outlinewidth\":0,\"ticks\":\"\"}},\"type\":\"scatterpolar\"}],\"scatterpolargl\":[{\"marker\":{\"colorbar\":{\"outlinewidth\":0,\"ticks\":\"\"}},\"type\":\"scatterpolargl\"}],\"scatterternary\":[{\"marker\":{\"colorbar\":{\"outlinewidth\":0,\"ticks\":\"\"}},\"type\":\"scatterternary\"}],\"surface\":[{\"colorbar\":{\"outlinewidth\":0,\"ticks\":\"\"},\"colorscale\":[[0.0,\"#0d0887\"],[0.1111111111111111,\"#46039f\"],[0.2222222222222222,\"#7201a8\"],[0.3333333333333333,\"#9c179e\"],[0.4444444444444444,\"#bd3786\"],[0.5555555555555556,\"#d8576b\"],[0.6666666666666666,\"#ed7953\"],[0.7777777777777778,\"#fb9f3a\"],[0.8888888888888888,\"#fdca26\"],[1.0,\"#f0f921\"]],\"type\":\"surface\"}],\"table\":[{\"cells\":{\"fill\":{\"color\":\"#EBF0F8\"},\"line\":{\"color\":\"white\"}},\"header\":{\"fill\":{\"color\":\"#C8D4E3\"},\"line\":{\"color\":\"white\"}},\"type\":\"table\"}]},\"layout\":{\"annotationdefaults\":{\"arrowcolor\":\"#2a3f5f\",\"arrowhead\":0,\"arrowwidth\":1},\"autotypenumbers\":\"strict\",\"coloraxis\":{\"colorbar\":{\"outlinewidth\":0,\"ticks\":\"\"}},\"colorscale\":{\"diverging\":[[0,\"#8e0152\"],[0.1,\"#c51b7d\"],[0.2,\"#de77ae\"],[0.3,\"#f1b6da\"],[0.4,\"#fde0ef\"],[0.5,\"#f7f7f7\"],[0.6,\"#e6f5d0\"],[0.7,\"#b8e186\"],[0.8,\"#7fbc41\"],[0.9,\"#4d9221\"],[1,\"#276419\"]],\"sequential\":[[0.0,\"#0d0887\"],[0.1111111111111111,\"#46039f\"],[0.2222222222222222,\"#7201a8\"],[0.3333333333333333,\"#9c179e\"],[0.4444444444444444,\"#bd3786\"],[0.5555555555555556,\"#d8576b\"],[0.6666666666666666,\"#ed7953\"],[0.7777777777777778,\"#fb9f3a\"],[0.8888888888888888,\"#fdca26\"],[1.0,\"#f0f921\"]],\"sequentialminus\":[[0.0,\"#0d0887\"],[0.1111111111111111,\"#46039f\"],[0.2222222222222222,\"#7201a8\"],[0.3333333333333333,\"#9c179e\"],[0.4444444444444444,\"#bd3786\"],[0.5555555555555556,\"#d8576b\"],[0.6666666666666666,\"#ed7953\"],[0.7777777777777778,\"#fb9f3a\"],[0.8888888888888888,\"#fdca26\"],[1.0,\"#f0f921\"]]},\"colorway\":[\"#636efa\",\"#EF553B\",\"#00cc96\",\"#ab63fa\",\"#FFA15A\",\"#19d3f3\",\"#FF6692\",\"#B6E880\",\"#FF97FF\",\"#FECB52\"],\"font\":{\"color\":\"#2a3f5f\"},\"geo\":{\"bgcolor\":\"white\",\"lakecolor\":\"white\",\"landcolor\":\"#E5ECF6\",\"showlakes\":true,\"showland\":true,\"subunitcolor\":\"white\"},\"hoverlabel\":{\"align\":\"left\"},\"hovermode\":\"closest\",\"mapbox\":{\"style\":\"light\"},\"paper_bgcolor\":\"white\",\"plot_bgcolor\":\"#E5ECF6\",\"polar\":{\"angularaxis\":{\"gridcolor\":\"white\",\"linecolor\":\"white\",\"ticks\":\"\"},\"bgcolor\":\"#E5ECF6\",\"radialaxis\":{\"gridcolor\":\"white\",\"linecolor\":\"white\",\"ticks\":\"\"}},\"scene\":{\"xaxis\":{\"backgroundcolor\":\"#E5ECF6\",\"gridcolor\":\"white\",\"gridwidth\":2,\"linecolor\":\"white\",\"showbackground\":true,\"ticks\":\"\",\"zerolinecolor\":\"white\"},\"yaxis\":{\"backgroundcolor\":\"#E5ECF6\",\"gridcolor\":\"white\",\"gridwidth\":2,\"linecolor\":\"white\",\"showbackground\":true,\"ticks\":\"\",\"zerolinecolor\":\"white\"},\"zaxis\":{\"backgroundcolor\":\"#E5ECF6\",\"gridcolor\":\"white\",\"gridwidth\":2,\"linecolor\":\"white\",\"showbackground\":true,\"ticks\":\"\",\"zerolinecolor\":\"white\"}},\"shapedefaults\":{\"line\":{\"color\":\"#2a3f5f\"}},\"ternary\":{\"aaxis\":{\"gridcolor\":\"white\",\"linecolor\":\"white\",\"ticks\":\"\"},\"baxis\":{\"gridcolor\":\"white\",\"linecolor\":\"white\",\"ticks\":\"\"},\"bgcolor\":\"#E5ECF6\",\"caxis\":{\"gridcolor\":\"white\",\"linecolor\":\"white\",\"ticks\":\"\"}},\"title\":{\"x\":0.05},\"xaxis\":{\"automargin\":true,\"gridcolor\":\"white\",\"linecolor\":\"white\",\"ticks\":\"\",\"title\":{\"standoff\":15},\"zerolinecolor\":\"white\",\"zerolinewidth\":2},\"yaxis\":{\"automargin\":true,\"gridcolor\":\"white\",\"linecolor\":\"white\",\"ticks\":\"\",\"title\":{\"standoff\":15},\"zerolinecolor\":\"white\",\"zerolinewidth\":2}}},\"mapbox\":{\"domain\":{\"x\":[0.0,1.0],\"y\":[0.0,1.0]},\"center\":{\"lat\":41,\"lon\":12},\"zoom\":0.5,\"style\":\"carto-positron\"},\"coloraxis\":{\"colorbar\":{\"title\":{\"text\":\"numPeopleVisited\"}},\"colorscale\":[[0.0,\"#0d0887\"],[0.1111111111111111,\"#46039f\"],[0.2222222222222222,\"#7201a8\"],[0.3333333333333333,\"#9c179e\"],[0.4444444444444444,\"#bd3786\"],[0.5555555555555556,\"#d8576b\"],[0.6666666666666666,\"#ed7953\"],[0.7777777777777778,\"#fb9f3a\"],[0.8888888888888888,\"#fdca26\"],[1.0,\"#f0f921\"]]},\"legend\":{\"tracegroupgap\":0,\"itemsizing\":\"constant\"},\"margin\":{\"t\":60},\"height\":600,\"width\":1000,\"title\":{\"text\":\"Maps visualization of the most relevant place\",\"y\":0.95,\"x\":0.45,\"xanchor\":\"center\",\"yanchor\":\"top\"}},                        {\"responsive\": true}                    ).then(function(){\n",
       "                            \n",
       "var gd = document.getElementById('810f2770-78ca-453b-ae0f-734bc31e2d08');\n",
       "var x = new MutationObserver(function (mutations, observer) {{\n",
       "        var display = window.getComputedStyle(gd).display;\n",
       "        if (!display || display === 'none') {{\n",
       "            console.log([gd, 'removed!']);\n",
       "            Plotly.purge(gd);\n",
       "            observer.disconnect();\n",
       "        }}\n",
       "}});\n",
       "\n",
       "// Listen for the removal of the full notebook cells\n",
       "var notebookContainer = gd.closest('#notebook-container');\n",
       "if (notebookContainer) {{\n",
       "    x.observe(notebookContainer, {childList: true});\n",
       "}}\n",
       "\n",
       "// Listen for the clearing of the current output cell\n",
       "var outputEl = gd.closest('.output');\n",
       "if (outputEl) {{\n",
       "    x.observe(outputEl, {childList: true});\n",
       "}}\n",
       "\n",
       "                        })                };                });            </script>        </div>"
      ]
     },
     "metadata": {},
     "output_type": "display_data"
    }
   ],
   "source": [
    "import plotly.express as px\n",
    "\n",
    "fig = px.scatter_mapbox(output, lat = \"placeAlt\", lon = \"placeLong\", center = {\"lat\": alt, \"lon\": long},  width = 1000,  \n",
    "    height = 600, color=\"numPeopleVisited\", size=\"numPeopleVisited\", zoom=0.5, hover_data = [\"placeName\", \"placeAddress\", \"numPeopleVisited\"])\n",
    "fig.update_layout(\n",
    "    title={\n",
    "        'text': \"Maps visualization of the most relevant place\",\n",
    "        'y':0.95,\n",
    "        'x':0.45,\n",
    "        'xanchor': 'center',\n",
    "        'yanchor': 'top'})\n",
    "\n",
    "fig.update_layout(mapbox_style=\"carto-positron\") \n",
    "fig.show()"
   ]
  },
  {
   "cell_type": "markdown",
   "id": "f8a7fc34",
   "metadata": {},
   "source": [
    "# 7. Theoretical Question"
   ]
  },
  {
   "cell_type": "markdown",
   "id": "3b77fbfe",
   "metadata": {},
   "source": [
    "#### 1. Try solving the problem mentioned above using three different sorting algorithms (do not use any MapReduce algorithm). (Note: Built-in Python functions (like .mean, .sort, etc.) are not allowed to be used. You must implement the algorithms from scratch)."
   ]
  },
  {
   "cell_type": "code",
   "execution_count": 1,
   "id": "08861124",
   "metadata": {},
   "outputs": [],
   "source": [
    "def mean(marks): #Given a list, the functions returns the mean of its components...\n",
    "    s = 0\n",
    "    for mark in marks:\n",
    "        s += mark\n",
    "    return round(s/len(marks), 2) #rounded to the second decimal "
   ]
  },
  {
   "cell_type": "code",
   "execution_count": 2,
   "id": "b464f631",
   "metadata": {},
   "outputs": [],
   "source": [
    "with open('ApplicantsInfo.txt') as f: #opens the file \n",
    "    line0 = f.readline()              #reads the first line of the file to get n and m \n",
    "    line0 = line0.split()\n",
    "    n = line0[0]\n",
    "    m = line0[1]\n",
    "    l = []\n",
    "    Lines = f.readlines()             #reads the other lines of the file\n",
    "    for line in Lines:                #for each applicant we compute the mean and store his name and mean in a sublist \n",
    "        line = line.split()\n",
    "        marks = [int(i) for i in line[2:]]\n",
    "        l.append([line[0] + ' ' + line[1], mean(marks)])\n",
    "    print(l)"
   ]
  },
  {
   "cell_type": "markdown",
   "id": "a754c2f0",
   "metadata": {},
   "source": [
    "##### Insertion Sort"
   ]
  },
  {
   "cell_type": "code",
   "execution_count": 90,
   "id": "9f2237ef",
   "metadata": {},
   "outputs": [],
   "source": [
    "def swap(x, y): #Given x and y the function switches x and y\n",
    "    temp0 = y[0]\n",
    "    temp1 = y[1]\n",
    "    y[0] = x[0]\n",
    "    y[1] = x[1]\n",
    "    x[0] = temp0\n",
    "    x[1] = temp1\n",
    "    return \n",
    "\n",
    "def insertionsort(l):\n",
    "    # we loop over the components of the list\n",
    "    for i in range(1, len(l)):\n",
    "        # we check whether the current element is greater or equal to the previous ones\n",
    "        while ((i > 0) and (i-1 >= 0) and (l[i][1] >= l[i-1][1])):\n",
    "                # if it's greater we switch them because we want to sort in descending order with respect to the means\n",
    "                if l[i][1] > l[i-1][1]:\n",
    "                    swap(l[i], l[i-1])\n",
    "                    i -= 1\n",
    "                    continue\n",
    "                # if the means are equal we check what name comes first in alphabetical order\n",
    "                elif l[i][1] == l[i-1][1]:\n",
    "                    if l[i][0] != l[i-1][0]:\n",
    "                        # and if the current element comes after we switch them\n",
    "                        if l[i-1][0] > l[i][0]:\n",
    "                            swap(l[i], l[i-1])  \n",
    "                    i -= 1\n",
    "    return l\n",
    "\n",
    "sortedI = insertionsort(l)"
   ]
  },
  {
   "cell_type": "code",
   "execution_count": 91,
   "id": "c999166e",
   "metadata": {},
   "outputs": [],
   "source": [
    "file = open(\"RankingList.txt\", \"w\")\n",
    "write = [f'{elem[0]} {elem[1]} \\n' for elem in sortedI]\n",
    "file.writelines(write)\n",
    "file.close()"
   ]
  },
  {
   "cell_type": "markdown",
   "id": "7fef225a",
   "metadata": {},
   "source": [
    "##### Merge Sort"
   ]
  },
  {
   "cell_type": "code",
   "execution_count": 92,
   "id": "142bc0a3",
   "metadata": {},
   "outputs": [],
   "source": [
    "def merge(l, first, middle, last):\n",
    "    i = first - 1\n",
    "    j = middle \n",
    "    temp = []     #creating a temporary array\n",
    "    \n",
    "    while ((i < middle) and (j < last)):      #iterating over l. \n",
    "        \n",
    "        #sorting by grade mean\n",
    "        if l[i][1] > l[j][1]:             \n",
    "            temp.append(l[i])               \n",
    "            i += 1\n",
    "                                           \n",
    "        elif l[i][1] < l[j][1]:\n",
    "            temp.append(l[j])\n",
    "            j += 1\n",
    "            \n",
    "       #if the grade mean is the same, sort by alphabetical order     \n",
    "        elif l[i][0] <= l[j][0]:\n",
    "            temp.append(l[i])\n",
    "            i += 1\n",
    "                                            \n",
    "        elif l[i][0] > l[j][0]:\n",
    "            temp.append(l[j])\n",
    "            j += 1\n",
    "        \n",
    "    while i < middle:       #while the first temporary array is incomplete:\n",
    "        temp.append(l[i])\n",
    "        i += 1\n",
    "\n",
    "    while j < last:         #while the secondary array is incomplete:\n",
    "        temp.append(l[j])\n",
    "        j += 1\n",
    "    \n",
    "    for i in range(first-1, last):   #copy the temporary array on l \n",
    "        l[i] = temp[i-first+1]\n",
    "    \n",
    "    return l\n",
    "        \n",
    "        \n",
    "def mergesort(l, first, last):\n",
    "    if len(l) < 2:\n",
    "        return l\n",
    "    if first < last:\n",
    "        middle = (first + last)//2\n",
    "        mergesort(l, first, middle)\n",
    "        mergesort(l, middle + 1, last)\n",
    "        l = merge(l, first, middle, last)\n",
    "    return l\n",
    "\n",
    "sortedM = mergesort(l, 1, len(l))"
   ]
  },
  {
   "cell_type": "code",
   "execution_count": 93,
   "id": "e35792d7",
   "metadata": {},
   "outputs": [],
   "source": [
    "file = open(\"RankingListMerge.txt\", \"w\")\n",
    "write = [f'{elem[0]} {elem[1]} \\n' for elem in sortedM]\n",
    "file.writelines(write)\n",
    "file.close()"
   ]
  },
  {
   "cell_type": "markdown",
   "id": "66c2bfd7",
   "metadata": {},
   "source": [
    "##### Quick Sort"
   ]
  },
  {
   "cell_type": "code",
   "execution_count": 3,
   "id": "bd51bb93",
   "metadata": {},
   "outputs": [],
   "source": [
    "def quicksort(l, first, last):\n",
    "    if len(l) < 2:\n",
    "        return l\n",
    "    \n",
    "    # we choose the last element of our list of lists as pivot \n",
    "    pivot = l[last]\n",
    "    \n",
    "    # we inizialize two empty lists where we will sort the elements smaller than pivot (left) and those greater (right)\n",
    "    left = []\n",
    "    right = []\n",
    "    \n",
    "    # we divide the elements of the list between the two lists\n",
    "    for i in range(len(l)):\n",
    "        # if the mean of l[i] is greater than the mean of pivot\n",
    "        if l[i][1] > pivot[1]:\n",
    "            right.append(l[i])\n",
    "            \n",
    "        # if l[i] and the pivot have the same mean, but the name of l[i] comes before the name of the pivot \n",
    "        elif l[i][1] == pivot[1] and l[i][0] < pivot[0]: \n",
    "            right.append(l[i])\n",
    "            \n",
    "        # if l[i] and the pivot have the same mean, but the name of l[i] comes after the name of the pivot \n",
    "        elif l[i][1] == pivot[1] and l[i][0] > pivot[0]:\n",
    "            left.append(l[i])\n",
    "            \n",
    "        # if the mean of l[i] is greater than the mean of pivot\n",
    "        elif l[i][1] < pivot[1]: \n",
    "            left.append(l[i])\n",
    "            \n",
    "    # we recursively apply the quicksort to the new sublists left and right\n",
    "    sortedLeft = quicksort(left, 0, len(left)-1)\n",
    "    sortedRight = quicksort(right, 0, len(right)-1)\n",
    "    \n",
    "    # and now we join the final sorted list\n",
    "    l = sortedRight + [l[last]] + sortedLeft\n",
    "    return l"
   ]
  },
  {
   "cell_type": "code",
   "execution_count": 4,
   "id": "14302f11",
   "metadata": {},
   "outputs": [],
   "source": [
    "sortedQ = quicksort(l, 0, len(l)-1)"
   ]
  },
  {
   "cell_type": "code",
   "execution_count": 5,
   "id": "bb2feb5f",
   "metadata": {},
   "outputs": [],
   "source": [
    "file = open(\"RankingListQuick2.txt\", \"w\")\n",
    "write = [f'{elem[0]} {elem[1]} \\n' for elem in sortedQ]\n",
    "file.writelines(write)\n",
    "file.close()"
   ]
  },
  {
   "cell_type": "markdown",
   "id": "be276359",
   "metadata": {},
   "source": [
    "#### 2. What is the time complexity of each algorithm you have used?"
   ]
  },
  {
   "cell_type": "markdown",
   "id": "f5f97ab6",
   "metadata": {},
   "source": [
    "##### Insertion Sort"
   ]
  },
  {
   "cell_type": "markdown",
   "id": "9d135b5d",
   "metadata": {},
   "source": [
    "Given a list of lists with lenght $n$, each value is compared to the adjacent value to its left and if it's smaller than this value we switch them (or, in our case, if it's greater). \n",
    "The best case occurs when the number of switches is minimum, hence when the list is already sorted in ascending order (or, in our case, in descending order). if so, the cost is linear: $T(n) = O(n)$ , because we iterate over the array just once.\n",
    "The worst case occurs when the number of switches is maximum, hence when the list is sorted in in descending order (or, in our case, in ascending order). In this case the cost is not linear: $T(n) = O(n^2)$."
   ]
  },
  {
   "cell_type": "markdown",
   "id": "16c2a06f",
   "metadata": {},
   "source": [
    "##### Merge Sort"
   ]
  },
  {
   "cell_type": "markdown",
   "id": "17ecc823",
   "metadata": {},
   "source": [
    "Given a list l of lenght n, we divide the list in two sublists of lenght $\\frac{n}{2}$ and then mergesort calls itself on the two sublists. The cost of the merge function is $\\theta(n)$. Hence the needed time is: $$T(n)= 2T(n/2) + \\theta(n).$$ By applying the principal theorem, we obtain that the cost is $T(n) = O(n logn).$"
   ]
  },
  {
   "cell_type": "markdown",
   "id": "60676efe",
   "metadata": {},
   "source": [
    "##### Quick Sort"
   ]
  },
  {
   "cell_type": "markdown",
   "id": "1539507a",
   "metadata": {},
   "source": [
    "Let's compute the cost of this algorithm. Given a list of lists l -let's call its lenght $n$-, we divide the list in two sublist left and right, with lentghs $k$ and $n-k$ respectively, and then we call the function quicksort again on the sublists left and right. The cost of the division is $\\theta(n)$ since we have to inspect the whole list on which we call the quicksort. Hence we can write the time taken by the quicksort as follows: $$T(n) = T(k) + T(n-k) + \\theta(n)$$\n",
    "Now in order to get a more precise esteem of the required time, let's consider the worst, the best and the average cases:\n",
    "- the worst case scenario occurs when the choosen pivot is always the greatest or the smallest mean in the list, hence when $k=1$ or $k=n-1$: $$ T(n) = T(n-1) + T(0) +\\theta(n) = T(n-1) + \\theta(n) \\Rightarrow T(n) = O(n^2).$$\n",
    "- the best case occurs when the choosen pivot is always the greatest the middle element, hence when $k=\\frac{n}{2}$: $$ T(n) = 2T(\\frac{n}{2})+\\theta(n)  \\Rightarrow T(n) = O(n logn)$$"
   ]
  },
  {
   "cell_type": "markdown",
   "id": "0c889fcf",
   "metadata": {},
   "source": [
    "#### 3. Evaluate the time taken for each of your implementations to answer the query stored in the ApplicantsInfo.txt file and visualize them."
   ]
  },
  {
   "cell_type": "markdown",
   "id": "a0de6d02",
   "metadata": {},
   "source": [
    "##### Insertion Sort"
   ]
  },
  {
   "cell_type": "code",
   "execution_count": 99,
   "id": "d34aa898",
   "metadata": {},
   "outputs": [
    {
     "name": "stdout",
     "output_type": "stream",
     "text": [
      "Execution time: 0.5098026990890503 minutes\n"
     ]
    }
   ],
   "source": [
    "st = time.time()\n",
    "insertionsort(l)\n",
    "et = time.time()\n",
    "ins_execution_time = (et-st) / 60\n",
    "print('Execution time:', ins_execution_time, 'minutes')"
   ]
  },
  {
   "cell_type": "markdown",
   "id": "55151740",
   "metadata": {},
   "source": [
    "##### Merge Sort"
   ]
  },
  {
   "cell_type": "code",
   "execution_count": 100,
   "id": "2fdea163",
   "metadata": {},
   "outputs": [
    {
     "name": "stdout",
     "output_type": "stream",
     "text": [
      "Execution time: 0.007161434491475423 minutes\n"
     ]
    }
   ],
   "source": [
    "st = time.time()\n",
    "mergesort(l, 1, len(l))\n",
    "et = time.time()\n",
    "merge_execution_time = (et-st) / 60\n",
    "print('Execution time:', merge_execution_time, 'minutes')"
   ]
  },
  {
   "cell_type": "markdown",
   "id": "9ca116d5",
   "metadata": {},
   "source": [
    "##### Quick Sort"
   ]
  },
  {
   "cell_type": "code",
   "execution_count": 10,
   "id": "b7cde63a",
   "metadata": {},
   "outputs": [
    {
     "name": "stdout",
     "output_type": "stream",
     "text": [
      "Execution time: 0.01043097972869873 minutes\n"
     ]
    }
   ],
   "source": [
    "st = time.time()\n",
    "quicksort(l, 0, len(l)-1)\n",
    "et = time.time()\n",
    "quick_execution_time = (et-st) / 60\n",
    "print('Execution time:', quick_execution_time, 'minutes')"
   ]
  },
  {
   "cell_type": "markdown",
   "id": "64b71838",
   "metadata": {},
   "source": [
    "#### 4. What is the most optimal algorithm, in your opinion, and why?"
   ]
  },
  {
   "cell_type": "markdown",
   "id": "2b0e8760",
   "metadata": {},
   "source": [
    "In general there isn't an algorithm better than the others, it depends on what we are interested in, namely on what we consider optimal.\n",
    "Since we are working with a large amount of data, we could consider the most optimal algorithm as the fastest one. If we consider the execution time, of course **the Insertion sort isn't really efficient**, since we want to sort 50.000 elements and in the worst case the Insertion Sort costs $O(n^2) = O(50.000^2)$.  \n",
    "This also happens for the Quick Sort, but for this algorithm rarely the worst case occurs. So, in practice, **the most efficient one is Quick sort**, since, unlike the Merge Sort, it doesn't allocate new memory at each iteration."
   ]
  }
 ],
 "metadata": {
  "kernelspec": {
   "display_name": "Python 3",
   "language": "python",
   "name": "python3"
  },
  "language_info": {
   "codemirror_mode": {
    "name": "ipython",
    "version": 3
   },
   "file_extension": ".py",
   "mimetype": "text/x-python",
   "name": "python",
   "nbconvert_exporter": "python",
   "pygments_lexer": "ipython3",
   "version": "3.8.8"
  }
 },
 "nbformat": 4,
 "nbformat_minor": 5
}
